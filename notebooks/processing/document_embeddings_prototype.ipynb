{
 "cells": [
  {
   "cell_type": "code",
   "execution_count": 1,
   "id": "97d51bd4-82c8-4f8a-83b1-b76406a79fb9",
   "metadata": {},
   "outputs": [],
   "source": [
    "# !pip install pandas pymongo torchinfo --quiet"
   ]
  },
  {
   "cell_type": "markdown",
   "id": "c4dacf10-8283-419a-a739-cab236f2024e",
   "metadata": {
    "jp-MarkdownHeadingCollapsed": true
   },
   "source": [
    "# Solution prototype"
   ]
  },
  {
   "cell_type": "code",
   "execution_count": 2,
   "id": "3bc7f06a-2620-4939-ad38-dbf6047b3b51",
   "metadata": {},
   "outputs": [
    {
     "name": "stderr",
     "output_type": "stream",
     "text": [
      "/Users/malek/Desktop/Home/Workspaces/Falcony/insightfinder/venv-1/lib/python3.10/site-packages/sentence_transformers/cross_encoder/CrossEncoder.py:11: TqdmExperimentalWarning: Using `tqdm.autonotebook.tqdm` in notebook mode. Use `tqdm.tqdm` instead to force console mode (e.g. in jupyter console)\n",
      "  from tqdm.autonotebook import tqdm, trange\n"
     ]
    },
    {
     "data": {
      "text/plain": [
       "True"
      ]
     },
     "execution_count": 2,
     "metadata": {},
     "output_type": "execute_result"
    }
   ],
   "source": [
    "import os\n",
    "from pathlib import Path\n",
    "\n",
    "import numpy as np\n",
    "import pandas as pd\n",
    "\n",
    "import re\n",
    "import nltk\n",
    "import torch\n",
    "\n",
    "from dotenv import load_dotenv\n",
    "from nltk.corpus import stopwords\n",
    "from nltk.tokenize import word_tokenize\n",
    "from pymongo import MongoClient, errors\n",
    "from sentence_transformers import SentenceTransformer\n",
    "from torchinfo import summary\n",
    "from tqdm import tqdm\n",
    "\n",
    "load_dotenv(\"../../.env\")"
   ]
  },
  {
   "cell_type": "markdown",
   "id": "3e046780-5e10-4373-9804-e7a9edab7f53",
   "metadata": {},
   "source": [
    "## Data extraction"
   ]
  },
  {
   "cell_type": "code",
   "execution_count": 3,
   "id": "46626f26-e865-40d8-b47d-cb33aaea4646",
   "metadata": {},
   "outputs": [],
   "source": [
    "MONGO_HOST = os.getenv(\"MONGO_HOST\")\n",
    "MONGO_DATABASE = 'insightfinder-dev'\n",
    "DOCS_COLLECTION = 'documents'"
   ]
  },
  {
   "cell_type": "code",
   "execution_count": 4,
   "id": "afc305c1-7609-4d85-a036-b3e685dc8b7b",
   "metadata": {},
   "outputs": [],
   "source": [
    "def generate_data(query: dict, projection: dict = None, sort_order: list = None, limit: int = None):\n",
    "    try:\n",
    "        with MongoClient(MONGO_HOST) as mongo_client:\n",
    "            db = mongo_client[MONGO_DATABASE]\n",
    "            collection = db[DOCS_COLLECTION]\n",
    "            res = collection.find(query, projection or {})\n",
    "            if sort_order:\n",
    "                res = res.sort(sort_order)\n",
    "            if limit:\n",
    "                res = res.limit(limit)\n",
    "            yield from res\n",
    "    except errors.PyMongoError as e:\n",
    "        print(f\"MongoDB error: {e}\")\n",
    "    except Exception as e:\n",
    "        print(f\"An unexpected error occurred: {e}\")\n",
    "\n",
    "\n",
    "def preprocess_paragraphs(paragraphs):\n",
    "    if not isinstance(paragraphs, list):\n",
    "        return None\n",
    "    return \" \".join(p.strip() for p in paragraphs if len(p.strip()) > 0)"
   ]
  },
  {
   "cell_type": "code",
   "execution_count": 5,
   "id": "4b0f78df-d4c0-40d1-8efd-fb164f396241",
   "metadata": {},
   "outputs": [],
   "source": [
    "query = {\n",
    "    \"visited\": True, \n",
    "    \"parsed_date\": {\n",
    "        \"$exists\": True, \"$ne\": None,\n",
    "        \"$gte\": \"2024-05-01\", \"$lte\": \"2024-05-31\",\n",
    "    },\n",
    "    \"site_name\": {\n",
    "        \"$exists\": True, \"$nin\": [\"faz\"],\n",
    "    }\n",
    "}\n",
    "projection = {\"_id\": 1, \"url\": 1, \"parsed_date\": 1, \"title\": 1, \"description\": 1, \"paragraphs\": 1, \"site_name\": 1}\n",
    "\n",
    "# sort_order = [(\"parsed_date\", -1)]\n",
    "sort_order = None\n",
    "\n",
    "limit = None\n",
    "\n",
    "data_generator = generate_data(query, projection, sort_order, limit)\n",
    "df = pd.DataFrame(data_generator)\n",
    "df[\"paragraphs\"] = df[\"paragraphs\"].apply(preprocess_paragraphs)"
   ]
  },
  {
   "cell_type": "code",
   "execution_count": 6,
   "id": "895f0568-674f-4778-acae-51162b3f6fa9",
   "metadata": {},
   "outputs": [
    {
     "data": {
      "text/html": [
       "<div>\n",
       "<style scoped>\n",
       "    .dataframe tbody tr th:only-of-type {\n",
       "        vertical-align: middle;\n",
       "    }\n",
       "\n",
       "    .dataframe tbody tr th {\n",
       "        vertical-align: top;\n",
       "    }\n",
       "\n",
       "    .dataframe thead th {\n",
       "        text-align: right;\n",
       "    }\n",
       "</style>\n",
       "<table border=\"1\" class=\"dataframe\">\n",
       "  <thead>\n",
       "    <tr style=\"text-align: right;\">\n",
       "      <th></th>\n",
       "      <th>_id</th>\n",
       "      <th>url</th>\n",
       "      <th>description</th>\n",
       "      <th>title</th>\n",
       "      <th>site_name</th>\n",
       "      <th>parsed_date</th>\n",
       "      <th>paragraphs</th>\n",
       "    </tr>\n",
       "  </thead>\n",
       "  <tbody>\n",
       "    <tr>\n",
       "      <th>0</th>\n",
       "      <td>66407ce2c0e28ab642bf44f4</td>\n",
       "      <td>https://www.handelsblatt.com/finanzen/banken-v...</td>\n",
       "      <td>Die Fondsmanagerin Alexandra Annecke kritisier...</td>\n",
       "      <td>„IT-Probleme bei der Migration der Postbank si...</td>\n",
       "      <td>handelsblatt</td>\n",
       "      <td>2024-05-10</td>\n",
       "      <td>Frankfurt. Die Fondsgesellschaft Union Investm...</td>\n",
       "    </tr>\n",
       "    <tr>\n",
       "      <th>1</th>\n",
       "      <td>66407ce2c0e28ab642bf44f5</td>\n",
       "      <td>https://www.handelsblatt.com/finanzen/banken-v...</td>\n",
       "      <td>Bei kontaktlosen Zahlungen per EC-Karte muss m...</td>\n",
       "      <td>Darum müssen Sie plötzlich kaum noch Ihre PIN ...</td>\n",
       "      <td>handelsblatt</td>\n",
       "      <td>2024-05-10</td>\n",
       "      <td>Frankfurt. Üblich ist, dass man beim Bezahlen ...</td>\n",
       "    </tr>\n",
       "    <tr>\n",
       "      <th>2</th>\n",
       "      <td>66407ce2c0e28ab642bf44f6</td>\n",
       "      <td>https://www.handelsblatt.com/finanzen/banken-v...</td>\n",
       "      <td>Die Autoversicherung leidet unter stark gestie...</td>\n",
       "      <td>Allianz lässt bei der Autoreparatur nun auch g...</td>\n",
       "      <td>handelsblatt</td>\n",
       "      <td>2024-05-10</td>\n",
       "      <td>München. Die Kfz- Versicherung  der  Allianz \\...</td>\n",
       "    </tr>\n",
       "    <tr>\n",
       "      <th>3</th>\n",
       "      <td>66407ce2c0e28ab642bf44f7</td>\n",
       "      <td>https://www.handelsblatt.com/finanzen/banken-v...</td>\n",
       "      <td>Die spanische Großbank will die kleinere Konku...</td>\n",
       "      <td>BBVA macht feindliches Übernahmeangebot für Sa...</td>\n",
       "      <td>handelsblatt</td>\n",
       "      <td>2024-05-09</td>\n",
       "      <td>Madrid, Düsseldorf. Die spanische Großbank  BB...</td>\n",
       "    </tr>\n",
       "    <tr>\n",
       "      <th>4</th>\n",
       "      <td>66407ce2c0e28ab642bf44f8</td>\n",
       "      <td>https://www.handelsblatt.com/finanzen/banken-v...</td>\n",
       "      <td>Erstmals werden Details zu den Vorwürfen bekan...</td>\n",
       "      <td>Großaktionär Förtsch mit neuen Vorwürfe gegen ...</td>\n",
       "      <td>handelsblatt</td>\n",
       "      <td>2024-05-08</td>\n",
       "      <td>Frankfurt. Bernd Förtsch, größte Einzelaktionä...</td>\n",
       "    </tr>\n",
       "    <tr>\n",
       "      <th>...</th>\n",
       "      <td>...</td>\n",
       "      <td>...</td>\n",
       "      <td>...</td>\n",
       "      <td>...</td>\n",
       "      <td>...</td>\n",
       "      <td>...</td>\n",
       "      <td>...</td>\n",
       "    </tr>\n",
       "    <tr>\n",
       "      <th>10030</th>\n",
       "      <td>667cfec66d6290962b720db2</td>\n",
       "      <td>https://www.tagesspiegel.de/berlin/u-haft-unte...</td>\n",
       "      <td>13 Richter und 13 Staatsanwälte werden für den...</td>\n",
       "      <td>U-Haft, Unterbindungsgewahrsam, Schnellverfahr...</td>\n",
       "      <td>tagesspiegel</td>\n",
       "      <td>2024-05-01</td>\n",
       "      <td>Nicht nur die Polizei, die mit bis zu 6000 Bea...</td>\n",
       "    </tr>\n",
       "    <tr>\n",
       "      <th>10031</th>\n",
       "      <td>667cfec86d6290962b720db3</td>\n",
       "      <td>https://www.tagesspiegel.de/wissen/ungehorige-...</td>\n",
       "      <td>Zwischen zwei Gewichtsklassen von Himmelskörpe...</td>\n",
       "      <td>„Ungehörige“ Himmelsobjekte :  Zu schwer für e...</td>\n",
       "      <td>tagesspiegel</td>\n",
       "      <td>2024-05-01</td>\n",
       "      <td>Mit modernen Teleskopen und Detektoren werden ...</td>\n",
       "    </tr>\n",
       "    <tr>\n",
       "      <th>10032</th>\n",
       "      <td>667cfecb6d6290962b720db4</td>\n",
       "      <td>https://www.tagesspiegel.de/politik/die-tur-de...</td>\n",
       "      <td>Deutschland hätte die EU-Osterweiterung „stärk...</td>\n",
       "      <td>„Ukraine, Georgien, Moldau, Staaten des Westba...</td>\n",
       "      <td>tagesspiegel</td>\n",
       "      <td>2024-05-01</td>\n",
       "      <td>CDU-Chef Friedrich Merz bekennt sich zur Aufna...</td>\n",
       "    </tr>\n",
       "    <tr>\n",
       "      <th>10033</th>\n",
       "      <td>667cfece6d6290962b720db5</td>\n",
       "      <td>https://www.tagesspiegel.de/politik/streit-ube...</td>\n",
       "      <td>SPD und Grüne fordern zum Tag der Arbeit eine ...</td>\n",
       "      <td>Streit über Erhöhung des Mindestlohns :  „Natü...</td>\n",
       "      <td>tagesspiegel</td>\n",
       "      <td>2024-05-01</td>\n",
       "      <td>Unmittelbar vor dem Tag der Arbeit streitet si...</td>\n",
       "    </tr>\n",
       "    <tr>\n",
       "      <th>10034</th>\n",
       "      <td>667cfed06d6290962b720db6</td>\n",
       "      <td>https://www.tagesspiegel.de/wirtschaft/wie-wor...</td>\n",
       "      <td>Die Sprache des Kapitalismus verschleiert Zusa...</td>\n",
       "      <td>Wie Wörter unser Denken prägen :  „Preise stei...</td>\n",
       "      <td>tagesspiegel</td>\n",
       "      <td>2024-05-01</td>\n",
       "      <td>Herr Sahner, Herr Stähr, Sie haben ein Buch da...</td>\n",
       "    </tr>\n",
       "  </tbody>\n",
       "</table>\n",
       "<p>10035 rows × 7 columns</p>\n",
       "</div>"
      ],
      "text/plain": [
       "                            _id  \\\n",
       "0      66407ce2c0e28ab642bf44f4   \n",
       "1      66407ce2c0e28ab642bf44f5   \n",
       "2      66407ce2c0e28ab642bf44f6   \n",
       "3      66407ce2c0e28ab642bf44f7   \n",
       "4      66407ce2c0e28ab642bf44f8   \n",
       "...                         ...   \n",
       "10030  667cfec66d6290962b720db2   \n",
       "10031  667cfec86d6290962b720db3   \n",
       "10032  667cfecb6d6290962b720db4   \n",
       "10033  667cfece6d6290962b720db5   \n",
       "10034  667cfed06d6290962b720db6   \n",
       "\n",
       "                                                     url  \\\n",
       "0      https://www.handelsblatt.com/finanzen/banken-v...   \n",
       "1      https://www.handelsblatt.com/finanzen/banken-v...   \n",
       "2      https://www.handelsblatt.com/finanzen/banken-v...   \n",
       "3      https://www.handelsblatt.com/finanzen/banken-v...   \n",
       "4      https://www.handelsblatt.com/finanzen/banken-v...   \n",
       "...                                                  ...   \n",
       "10030  https://www.tagesspiegel.de/berlin/u-haft-unte...   \n",
       "10031  https://www.tagesspiegel.de/wissen/ungehorige-...   \n",
       "10032  https://www.tagesspiegel.de/politik/die-tur-de...   \n",
       "10033  https://www.tagesspiegel.de/politik/streit-ube...   \n",
       "10034  https://www.tagesspiegel.de/wirtschaft/wie-wor...   \n",
       "\n",
       "                                             description  \\\n",
       "0      Die Fondsmanagerin Alexandra Annecke kritisier...   \n",
       "1      Bei kontaktlosen Zahlungen per EC-Karte muss m...   \n",
       "2      Die Autoversicherung leidet unter stark gestie...   \n",
       "3      Die spanische Großbank will die kleinere Konku...   \n",
       "4      Erstmals werden Details zu den Vorwürfen bekan...   \n",
       "...                                                  ...   \n",
       "10030  13 Richter und 13 Staatsanwälte werden für den...   \n",
       "10031  Zwischen zwei Gewichtsklassen von Himmelskörpe...   \n",
       "10032  Deutschland hätte die EU-Osterweiterung „stärk...   \n",
       "10033  SPD und Grüne fordern zum Tag der Arbeit eine ...   \n",
       "10034  Die Sprache des Kapitalismus verschleiert Zusa...   \n",
       "\n",
       "                                                   title     site_name  \\\n",
       "0      „IT-Probleme bei der Migration der Postbank si...  handelsblatt   \n",
       "1      Darum müssen Sie plötzlich kaum noch Ihre PIN ...  handelsblatt   \n",
       "2      Allianz lässt bei der Autoreparatur nun auch g...  handelsblatt   \n",
       "3      BBVA macht feindliches Übernahmeangebot für Sa...  handelsblatt   \n",
       "4      Großaktionär Förtsch mit neuen Vorwürfe gegen ...  handelsblatt   \n",
       "...                                                  ...           ...   \n",
       "10030  U-Haft, Unterbindungsgewahrsam, Schnellverfahr...  tagesspiegel   \n",
       "10031  „Ungehörige“ Himmelsobjekte :  Zu schwer für e...  tagesspiegel   \n",
       "10032  „Ukraine, Georgien, Moldau, Staaten des Westba...  tagesspiegel   \n",
       "10033  Streit über Erhöhung des Mindestlohns :  „Natü...  tagesspiegel   \n",
       "10034  Wie Wörter unser Denken prägen :  „Preise stei...  tagesspiegel   \n",
       "\n",
       "      parsed_date                                         paragraphs  \n",
       "0      2024-05-10  Frankfurt. Die Fondsgesellschaft Union Investm...  \n",
       "1      2024-05-10  Frankfurt. Üblich ist, dass man beim Bezahlen ...  \n",
       "2      2024-05-10  München. Die Kfz- Versicherung  der  Allianz \\...  \n",
       "3      2024-05-09  Madrid, Düsseldorf. Die spanische Großbank  BB...  \n",
       "4      2024-05-08  Frankfurt. Bernd Förtsch, größte Einzelaktionä...  \n",
       "...           ...                                                ...  \n",
       "10030  2024-05-01  Nicht nur die Polizei, die mit bis zu 6000 Bea...  \n",
       "10031  2024-05-01  Mit modernen Teleskopen und Detektoren werden ...  \n",
       "10032  2024-05-01  CDU-Chef Friedrich Merz bekennt sich zur Aufna...  \n",
       "10033  2024-05-01  Unmittelbar vor dem Tag der Arbeit streitet si...  \n",
       "10034  2024-05-01  Herr Sahner, Herr Stähr, Sie haben ein Buch da...  \n",
       "\n",
       "[10035 rows x 7 columns]"
      ]
     },
     "execution_count": 6,
     "metadata": {},
     "output_type": "execute_result"
    }
   ],
   "source": [
    "df"
   ]
  },
  {
   "cell_type": "code",
   "execution_count": 7,
   "id": "4fd3f7e6-7176-4dd7-b8ef-c4e6ecb9e3cb",
   "metadata": {},
   "outputs": [
    {
     "data": {
      "text/plain": [
       "count                            10035\n",
       "mean     2024-05-16 09:42:27.443945984\n",
       "min                2024-05-01 00:00:00\n",
       "25%                2024-05-08 00:00:00\n",
       "50%                2024-05-16 00:00:00\n",
       "75%                2024-05-24 00:00:00\n",
       "max                2024-05-31 00:00:00\n",
       "Name: parsed_date, dtype: object"
      ]
     },
     "execution_count": 7,
     "metadata": {},
     "output_type": "execute_result"
    }
   ],
   "source": [
    "pd.to_datetime(df[\"parsed_date\"]).describe()"
   ]
  },
  {
   "cell_type": "code",
   "execution_count": 8,
   "id": "a3cd5628-decc-4153-85a3-8f497504e025",
   "metadata": {},
   "outputs": [
    {
     "data": {
      "text/plain": [
       "site_name\n",
       "tagesspiegel    3970\n",
       "spiegel         3150\n",
       "heise           1102\n",
       "handelsblatt    1018\n",
       "tagesschau       795\n",
       "Name: count, dtype: int64"
      ]
     },
     "execution_count": 8,
     "metadata": {},
     "output_type": "execute_result"
    }
   ],
   "source": [
    "df[\"site_name\"].value_counts()"
   ]
  },
  {
   "cell_type": "markdown",
   "id": "09d0e811-a085-4071-a097-b193ed5afba7",
   "metadata": {
    "jp-MarkdownHeadingCollapsed": true
   },
   "source": [
    "## Build article documents"
   ]
  },
  {
   "cell_type": "code",
   "execution_count": 9,
   "id": "a13e4bda-9aa8-4265-9435-6bbfe139ce2e",
   "metadata": {},
   "outputs": [
    {
     "name": "stderr",
     "output_type": "stream",
     "text": [
      "[nltk_data] Downloading package punkt to /Users/malek/nltk_data...\n",
      "[nltk_data]   Package punkt is already up-to-date!\n",
      "[nltk_data] Downloading package stopwords to /Users/malek/nltk_data...\n",
      "[nltk_data]   Package stopwords is already up-to-date!\n",
      "[nltk_data] Downloading package wordnet to /Users/malek/nltk_data...\n",
      "[nltk_data]   Package wordnet is already up-to-date!\n"
     ]
    },
    {
     "data": {
      "text/plain": [
       "True"
      ]
     },
     "execution_count": 9,
     "metadata": {},
     "output_type": "execute_result"
    }
   ],
   "source": [
    "nltk.download('punkt')\n",
    "nltk.download('stopwords')\n",
    "nltk.download('wordnet')"
   ]
  },
  {
   "cell_type": "code",
   "execution_count": 10,
   "id": "e42a6c21-0052-4773-b2de-e25c88afff83",
   "metadata": {},
   "outputs": [
    {
     "data": {
      "text/plain": [
       "232"
      ]
     },
     "execution_count": 10,
     "metadata": {},
     "output_type": "execute_result"
    }
   ],
   "source": [
    "stop_words = set(stopwords.words('german'))\n",
    "len(stop_words)"
   ]
  },
  {
   "cell_type": "code",
   "execution_count": 11,
   "id": "a6cfb3aa-6f83-4ace-a1cd-dac717f23b86",
   "metadata": {},
   "outputs": [],
   "source": [
    "def preprocess_document(text):\n",
    "    text = text.lower()\n",
    "    text = re.sub(r'[^\\w\\s]', ' ', text)\n",
    "    words = word_tokenize(text, language='german')\n",
    "    words = [word for word in words if word not in stop_words]\n",
    "    return ' '.join(words)\n",
    "\n",
    "def build_documents(records):\n",
    "    for idx, record in enumerate(records):\n",
    "        parts = [record.get(\"title\"), record.get(\"description\"), record.get(\"paragraphs\")]\n",
    "        res = \" \".join(p.strip() for p in parts if p is not None and len(p.strip()) > 0)\n",
    "        res = preprocess_document(res)\n",
    "        if len(res.strip()) > 0:\n",
    "            yield idx, res"
   ]
  },
  {
   "cell_type": "code",
   "execution_count": 12,
   "id": "e5164f52-2241-4457-a8f7-755615ac803e",
   "metadata": {},
   "outputs": [
    {
     "data": {
      "text/plain": [
       "10021"
      ]
     },
     "execution_count": 12,
     "metadata": {},
     "output_type": "execute_result"
    }
   ],
   "source": [
    "documents = list(build_documents(df[[\"title\", \"description\", \"paragraphs\"]].to_dict(\"records\")))\n",
    "index = [d[0] for d in documents]\n",
    "documents = [d[1] for d in documents]\n",
    "len(documents)"
   ]
  },
  {
   "cell_type": "code",
   "execution_count": 13,
   "id": "c5404b61-471f-4d70-9057-e0c6a4e16774",
   "metadata": {},
   "outputs": [
    {
     "data": {
      "text/plain": [
       "_id                                     66407ce2c0e28ab642bf44f4\n",
       "url            https://www.handelsblatt.com/finanzen/banken-v...\n",
       "description    Die Fondsmanagerin Alexandra Annecke kritisier...\n",
       "title          „IT-Probleme bei der Migration der Postbank si...\n",
       "site_name                                           handelsblatt\n",
       "parsed_date                                           2024-05-10\n",
       "paragraphs     Frankfurt. Die Fondsgesellschaft Union Investm...\n",
       "Name: 0, dtype: object"
      ]
     },
     "execution_count": 13,
     "metadata": {},
     "output_type": "execute_result"
    }
   ],
   "source": [
    "df.iloc[0]"
   ]
  },
  {
   "cell_type": "code",
   "execution_count": 14,
   "id": "0c5b9164-cc7b-4fec-a199-7093e1ea821f",
   "metadata": {},
   "outputs": [
    {
     "data": {
      "text/plain": [
       "0"
      ]
     },
     "execution_count": 14,
     "metadata": {},
     "output_type": "execute_result"
    }
   ],
   "source": [
    "index[0]"
   ]
  },
  {
   "cell_type": "code",
   "execution_count": 15,
   "id": "bdf408b8-f20f-48bc-9623-562046c9b59e",
   "metadata": {},
   "outputs": [
    {
     "data": {
      "text/plain": [
       "'it probleme migration postbank blamage fondsmanagerin alexandra annecke kritisiert service probleme postbank vorstand aufsichtsrat deutschen bank entlasten gründe frankfurt fondsgesellschaft union investment übt scharfe kritik eingeschränkten fragemöglichkeiten virtuellen hauptversammlung deutschen bank fondsmanagerin alexandra annecke kündigt interview handelsblatt vorstand aufsichtsrat bank entlasten vermögensverwalter gehören rund 0 6 prozent aktien dürfte rang 20 30 größten anteilseigner liegen praktische konsequenzen votum entlastung symbolcharakter investoren drücken führung aktiengesellschaft misstrauen öffentlicher dissens institutionellen investoren führungsriege bank unangenehm'"
      ]
     },
     "execution_count": 15,
     "metadata": {},
     "output_type": "execute_result"
    }
   ],
   "source": [
    "documents[0]"
   ]
  },
  {
   "cell_type": "code",
   "execution_count": 16,
   "id": "75fe9293-958c-4d5c-8ec9-2dbeb8519e2e",
   "metadata": {},
   "outputs": [
    {
     "data": {
      "text/plain": [
       "count    10021.000000\n",
       "mean       203.585969\n",
       "std        178.477336\n",
       "min          2.000000\n",
       "0%           2.000000\n",
       "10%         41.000000\n",
       "20%         62.000000\n",
       "30%         91.000000\n",
       "40%        130.000000\n",
       "50%        177.000000\n",
       "60%        209.000000\n",
       "70%        247.000000\n",
       "80%        306.000000\n",
       "90%        401.000000\n",
       "100%      2645.000000\n",
       "max       2645.000000\n",
       "dtype: float64"
      ]
     },
     "execution_count": 16,
     "metadata": {},
     "output_type": "execute_result"
    }
   ],
   "source": [
    "pd.Series(documents).apply(lambda t: len(t.split())).describe(np.linspace(0, 1, 11))"
   ]
  },
  {
   "cell_type": "markdown",
   "id": "bf3ee169-82dd-4fa4-aec2-ab2cd749a755",
   "metadata": {},
   "source": [
    "## Create embeddings"
   ]
  },
  {
   "cell_type": "code",
   "execution_count": 17,
   "id": "54fe18e9-4c86-40a5-a351-5d3f09b51fb5",
   "metadata": {},
   "outputs": [
    {
     "name": "stderr",
     "output_type": "stream",
     "text": [
      "/Users/malek/Desktop/Home/Workspaces/Falcony/insightfinder/venv-1/lib/python3.10/site-packages/huggingface_hub/file_download.py:1132: FutureWarning: `resume_download` is deprecated and will be removed in version 1.0.0. Downloads always resume when possible. If you want to force a new download, use `force_download=True`.\n",
      "  warnings.warn(\n"
     ]
    },
    {
     "data": {
      "text/plain": [
       "==========================================================================================\n",
       "Layer (type:depth-idx)                                            Param #\n",
       "==========================================================================================\n",
       "SentenceTransformer                                               --\n",
       "├─Transformer: 1-1                                                --\n",
       "│    └─BertModel: 2-1                                             --\n",
       "│    │    └─BertEmbeddings: 3-1                                   96,212,352\n",
       "│    │    └─BertEncoder: 3-2                                      21,293,568\n",
       "│    │    └─BertPooler: 3-3                                       147,840\n",
       "├─Pooling: 1-2                                                    --\n",
       "==========================================================================================\n",
       "Total params: 117,653,760\n",
       "Trainable params: 117,653,760\n",
       "Non-trainable params: 0\n",
       "=========================================================================================="
      ]
     },
     "execution_count": 17,
     "metadata": {},
     "output_type": "execute_result"
    }
   ],
   "source": [
    "model = SentenceTransformer(\"sentence-transformers/paraphrase-multilingual-MiniLM-L12-v2\", device=\"cpu\")\n",
    "model.eval()\n",
    "\n",
    "summary(model)"
   ]
  },
  {
   "cell_type": "code",
   "execution_count": 18,
   "id": "264ce083-4fff-4a09-96d4-070e0a968017",
   "metadata": {},
   "outputs": [],
   "source": [
    "@torch.no_grad()\n",
    "def embed_document(document_or_batch: str | list, model):\n",
    "    return model.encode(document_or_batch)"
   ]
  },
  {
   "cell_type": "code",
   "execution_count": 19,
   "id": "23b42617-31c4-49c0-9fea-94900fa62ad6",
   "metadata": {},
   "outputs": [
    {
     "name": "stderr",
     "output_type": "stream",
     "text": [
      "  3%|██▌                                                                             | 20/627 [00:15<07:53,  1.28it/s]\n",
      "KeyboardInterrupt\n",
      "\n"
     ]
    }
   ],
   "source": [
    "batch_size = 16\n",
    "num_records = len(documents)\n",
    "num_steps = num_records // batch_size + int(num_records % batch_size > 0)\n",
    "pbar = tqdm(total=num_steps, position=0, leave=False)\n",
    "\n",
    "for start_idx in range(0, num_records, batch_size):\n",
    "    end_idx = min(start_idx + batch_size, num_records)\n",
    "    batch = documents[start_idx:end_idx]\n",
    "    embed_document(batch, model)\n",
    "    pbar.update()"
   ]
  },
  {
   "cell_type": "markdown",
   "id": "9f2bb10d-a186-4bb9-b88f-356cea7f0f96",
   "metadata": {},
   "source": [
    "# Implementing the entire processes"
   ]
  },
  {
   "cell_type": "code",
   "execution_count": 1,
   "id": "87fe1a99-db92-4111-a369-2f5d4bf09d10",
   "metadata": {},
   "outputs": [
    {
     "name": "stderr",
     "output_type": "stream",
     "text": [
      "/Users/malek/Desktop/Home/Workspaces/Falcony/insightfinder/venv-1/lib/python3.10/site-packages/sentence_transformers/cross_encoder/CrossEncoder.py:11: TqdmExperimentalWarning: Using `tqdm.autonotebook.tqdm` in notebook mode. Use `tqdm.tqdm` instead to force console mode (e.g. in jupyter console)\n",
      "  from tqdm.autonotebook import tqdm, trange\n",
      "[nltk_data] Downloading package punkt to /Users/malek/nltk_data...\n",
      "[nltk_data]   Package punkt is already up-to-date!\n",
      "[nltk_data] Downloading package stopwords to /Users/malek/nltk_data...\n",
      "[nltk_data]   Package stopwords is already up-to-date!\n",
      "[nltk_data] Downloading package wordnet to /Users/malek/nltk_data...\n",
      "[nltk_data]   Package wordnet is already up-to-date!\n"
     ]
    },
    {
     "data": {
      "text/plain": [
       "True"
      ]
     },
     "execution_count": 1,
     "metadata": {},
     "output_type": "execute_result"
    }
   ],
   "source": [
    "# dependencies\n",
    "\n",
    "import json\n",
    "import os\n",
    "import numpy as np\n",
    "\n",
    "import re\n",
    "import nltk\n",
    "import torch\n",
    "\n",
    "from bson.objectid import ObjectId\n",
    "from dotenv import load_dotenv\n",
    "from nltk.corpus import stopwords\n",
    "from nltk.tokenize import word_tokenize\n",
    "from pymongo import MongoClient, errors\n",
    "from sentence_transformers import SentenceTransformer\n",
    "from tqdm import tqdm\n",
    "\n",
    "nltk.download('punkt')\n",
    "nltk.download('stopwords')\n",
    "nltk.download('wordnet')"
   ]
  },
  {
   "cell_type": "code",
   "execution_count": 2,
   "id": "91e3836e-d409-4f6b-85a1-37dfc1e2eece",
   "metadata": {},
   "outputs": [],
   "source": [
    "# globals\n",
    "\n",
    "load_dotenv(\"../../.env\")\n",
    "MONGO_DATABASE = 'insightfinder-dev'\n",
    "DOCS_COLLECTION = 'documents'\n",
    "DOC_EMBEDDINGS_COLLECTION = 'embeddings'\n",
    "MONGO_HOST = os.getenv(\"MONGO_HOST\")"
   ]
  },
  {
   "cell_type": "code",
   "execution_count": 3,
   "id": "9edc7333-adf8-4f06-9a79-5c625fa6f873",
   "metadata": {},
   "outputs": [
    {
     "name": "stderr",
     "output_type": "stream",
     "text": [
      "/Users/malek/Desktop/Home/Workspaces/Falcony/insightfinder/venv-1/lib/python3.10/site-packages/huggingface_hub/file_download.py:1132: FutureWarning: `resume_download` is deprecated and will be removed in version 1.0.0. Downloads always resume when possible. If you want to force a new download, use `force_download=True`.\n",
      "  warnings.warn(\n"
     ]
    },
    {
     "data": {
      "text/plain": [
       "SentenceTransformer(\n",
       "  (0): Transformer({'max_seq_length': 128, 'do_lower_case': False}) with Transformer model: BertModel \n",
       "  (1): Pooling({'word_embedding_dimension': 384, 'pooling_mode_cls_token': False, 'pooling_mode_mean_tokens': True, 'pooling_mode_max_tokens': False, 'pooling_mode_mean_sqrt_len_tokens': False, 'pooling_mode_weightedmean_tokens': False, 'pooling_mode_lasttoken': False, 'include_prompt': True})\n",
       ")"
      ]
     },
     "execution_count": 3,
     "metadata": {},
     "output_type": "execute_result"
    }
   ],
   "source": [
    "# constants\n",
    "\n",
    "stop_words = set(stopwords.words('german'))\n",
    "\n",
    "model = SentenceTransformer(\"sentence-transformers/paraphrase-multilingual-MiniLM-L12-v2\", device=\"cpu\")\n",
    "model.eval()"
   ]
  },
  {
   "cell_type": "code",
   "execution_count": 7,
   "id": "158f35b8-2de6-4721-ac7f-7381492f7cfa",
   "metadata": {},
   "outputs": [],
   "source": [
    "def get_records_in_range(start_date: str = None, end_date: str = None, limit: int = None):\n",
    "\n",
    "    date_filters = {\"$exists\": True, \"$ne\": None}\n",
    "    if start_date:\n",
    "        date_filters[\"$gte\"] = start_date\n",
    "    if end_date:\n",
    "        date_filters[\"$lte\"] = end_date\n",
    "\n",
    "    query = {\n",
    "        \"$and\": [\n",
    "            {\n",
    "                \"visited\": True, \n",
    "                \"parsed_date\": date_filters,\n",
    "                \"site_name\": {\"$exists\": True, \"$nin\": [\"faz\"]},\n",
    "            },\n",
    "            {\n",
    "                \"$or\": [\n",
    "                    {\"title\": {\"$exists\": True, \"$not\": {\"$in\": [\"\", None]}}},\n",
    "                    {\"description\": {\"$exists\": True, \"$not\": {\"$in\": [\"\", None]}}},\n",
    "                    {\"paragraphs\": {\"$exists\": True, \"$not\": {\"$in\": [\"\", None]}}},\n",
    "                ]\n",
    "            }\n",
    "        ]\n",
    "    }\n",
    "    try:\n",
    "        with MongoClient(MONGO_HOST) as mongo_client:\n",
    "            db = mongo_client[MONGO_DATABASE]\n",
    "            collection = db[DOCS_COLLECTION]\n",
    "            res = collection.find(query)\n",
    "            if limit:\n",
    "                res = res.limit(limit)\n",
    "            yield from res\n",
    "    except errors.PyMongoError as e:\n",
    "        print(f\"MongoDB error: {e}\")\n",
    "    except Exception as e:\n",
    "        print(f\"An unexpected error occurred: {e}\")\n",
    "\n",
    "def get_documents_without_embeddings(document_ids: list):\n",
    "    try:\n",
    "        with MongoClient(MONGO_HOST) as mongo_client:\n",
    "            db = mongo_client[MONGO_DATABASE]\n",
    "            collection = db[DOC_EMBEDDINGS_COLLECTION]\n",
    "            existing_documents = collection.find({\"_id\": {\"$in\": document_ids}})\n",
    "            existing_document_ids = {doc[\"_id\"] for doc in existing_documents}\n",
    "            return [doc_id for doc_id in document_ids if doc_id not in existing_document_ids]\n",
    "    except errors.PyMongoError as e:\n",
    "        print(f\"MongoDB error: {e}\")\n",
    "    except Exception as e:\n",
    "        print(f\"An unexpected error occurred: {e}\")\n",
    "\n",
    "def join_list_of_strings(strings_list):\n",
    "    if strings_list is None or not isinstance(strings_list, list):\n",
    "        return strings_list\n",
    "    return \" \".join([x.strip() for x in strings_list if len(x.strip()) > 0])\n",
    "\n",
    "def preprocess_document(text):\n",
    "    text = text.lower()\n",
    "    text = re.sub(r'[^\\w\\s]', ' ', text)\n",
    "    words = word_tokenize(text, language='german')\n",
    "    words = [word for word in words if word not in stop_words]\n",
    "    return ' '.join(words)\n",
    "\n",
    "def create_document_for_record(record):\n",
    "    title = join_list_of_strings(record.get(\"title\"))\n",
    "    description = join_list_of_strings(record.get(\"description\"))\n",
    "    paragraphs = join_list_of_strings(record.get(\"paragraphs\"))\n",
    "    document = \" \".join([x.strip() for x in [title, description, paragraphs] if x is not None])\n",
    "    return preprocess_document(document)\n",
    "\n",
    "@torch.no_grad()\n",
    "def batch_embed_documents(documents: list, model):\n",
    "    return model.encode(documents).tolist()\n",
    "\n",
    "def batch_add_embeddings(payload: list):\n",
    "    try:\n",
    "        with MongoClient(MONGO_HOST) as mongo_client:\n",
    "            db = mongo_client[MONGO_DATABASE]\n",
    "            collection = db[DOC_EMBEDDINGS_COLLECTION]\n",
    "            collection.insert_many(payload)\n",
    "    except errors.PyMongoError as e:\n",
    "        print(f\"MongoDB error: {e}\")\n",
    "    except Exception as e:\n",
    "        print(f\"An unexpected error occurred: {e}\")\n",
    "\n",
    "def generate_batches(lst, n):\n",
    "    if n <= 0:\n",
    "        raise ValueError(\"Batch size must be a positive integer.\")\n",
    "    for i in range(0, len(lst), n):\n",
    "        yield lst[i:i+n]"
   ]
  },
  {
   "cell_type": "code",
   "execution_count": 8,
   "id": "16497be3-5c13-4337-9d7d-6db1ad34e381",
   "metadata": {},
   "outputs": [],
   "source": [
    "# variables\n",
    "\n",
    "batch_size = 16\n",
    "start_date = \"2024-07-27\"\n",
    "end_date = \"2024-08-04\""
   ]
  },
  {
   "cell_type": "code",
   "execution_count": 9,
   "id": "bb8c5f5a-bbf9-4f3e-ab45-6d465a30504b",
   "metadata": {
    "scrolled": true
   },
   "outputs": [
    {
     "name": "stderr",
     "output_type": "stream",
     "text": [
      "100%|█████████████████████████████████████████| 167/167 [29:53<00:00, 10.15s/it]"
     ]
    }
   ],
   "source": [
    "records = list(get_records_in_range(start_date=start_date, end_date=end_date))\n",
    "num_records = len(records)\n",
    "num_steps = num_records // batch_size + int(num_records % batch_size > 0)\n",
    "pbar = tqdm(total=num_steps, position=0, leave=True)\n",
    "\n",
    "for batch in generate_batches(records, batch_size):\n",
    "    batch_document_ids = [doc[\"_id\"] for doc in batch]\n",
    "    doc_ids_without_embeddings = get_documents_without_embeddings(batch_document_ids)\n",
    "    if len(doc_ids_without_embeddings) != 0:\n",
    "        effective_batch = [doc for doc in batch if doc[\"_id\"] in set(doc_ids_without_embeddings)]\n",
    "        documents = [create_document_for_record(record) for record in effective_batch]\n",
    "        embeddings = batch_embed_documents(documents, model)\n",
    "        payload = [{\"_id\": effective_batch[i][\"_id\"], \"embedding\": embeddings[i]} for i in range(len(effective_batch))]\n",
    "        batch_add_embeddings(payload)\n",
    "    pbar.update()"
   ]
  },
  {
   "cell_type": "code",
   "execution_count": null,
   "id": "5224a657-2753-4a60-8d04-bed14384ff27",
   "metadata": {},
   "outputs": [],
   "source": []
  }
 ],
 "metadata": {
  "kernelspec": {
   "display_name": "insightfinder",
   "language": "python",
   "name": "insightfinder"
  },
  "language_info": {
   "codemirror_mode": {
    "name": "ipython",
    "version": 3
   },
   "file_extension": ".py",
   "mimetype": "text/x-python",
   "name": "python",
   "nbconvert_exporter": "python",
   "pygments_lexer": "ipython3",
   "version": "3.10.11"
  }
 },
 "nbformat": 4,
 "nbformat_minor": 5
}
