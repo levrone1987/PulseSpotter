{
 "cells": [
  {
   "cell_type": "code",
   "execution_count": 8,
   "id": "dcf90935-278e-49df-99e2-77dbdab612cc",
   "metadata": {},
   "outputs": [],
   "source": [
    "import requests\n",
    "import pandas as pd"
   ]
  },
  {
   "cell_type": "markdown",
   "id": "2c8e4d6e-a25b-4fbf-80cc-20e02ecbe76b",
   "metadata": {},
   "source": [
    "# NewsAPI"
   ]
  },
  {
   "cell_type": "code",
   "execution_count": 139,
   "id": "b79066bb-b3cd-4017-b82f-ca1173328866",
   "metadata": {},
   "outputs": [],
   "source": [
    "API_KEY = \"7deeb17cd4ba387826cbb8beacc6d\"\n",
    "API_KEY = \"eee5ded248e29777bd5567c53067\""
   ]
  },
  {
   "cell_type": "markdown",
   "id": "e7ec5e01-c68f-4d14-ad37-94460424f6ce",
   "metadata": {},
   "source": [
    "## Sources"
   ]
  },
  {
   "cell_type": "code",
   "execution_count": 140,
   "id": "80472ac0-d7e0-4324-8b0f-03ecd5b92e4e",
   "metadata": {},
   "outputs": [],
   "source": [
    "params = {\"country\": \"de\"}\n",
    "response = requests.get(\n",
    "    f\"https://newsapi.org/v2/top-headlines/sources?apiKey={API_KEY}\",\n",
    "    params=params,\n",
    ")"
   ]
  },
  {
   "cell_type": "code",
   "execution_count": 141,
   "id": "52db4635-4a00-4dac-8d02-6a8f4f0104bb",
   "metadata": {},
   "outputs": [
    {
     "data": {
      "text/html": [
       "<div>\n",
       "<style scoped>\n",
       "    .dataframe tbody tr th:only-of-type {\n",
       "        vertical-align: middle;\n",
       "    }\n",
       "\n",
       "    .dataframe tbody tr th {\n",
       "        vertical-align: top;\n",
       "    }\n",
       "\n",
       "    .dataframe thead th {\n",
       "        text-align: right;\n",
       "    }\n",
       "</style>\n",
       "<table border=\"1\" class=\"dataframe\">\n",
       "  <thead>\n",
       "    <tr style=\"text-align: right;\">\n",
       "      <th></th>\n",
       "      <th>id</th>\n",
       "      <th>name</th>\n",
       "      <th>description</th>\n",
       "      <th>url</th>\n",
       "      <th>category</th>\n",
       "      <th>language</th>\n",
       "      <th>country</th>\n",
       "    </tr>\n",
       "  </thead>\n",
       "  <tbody>\n",
       "    <tr>\n",
       "      <th>0</th>\n",
       "      <td>bild</td>\n",
       "      <td>Bild</td>\n",
       "      <td>Die Seite 1 für aktuelle Nachrichten und Theme...</td>\n",
       "      <td>http://www.bild.de</td>\n",
       "      <td>general</td>\n",
       "      <td>de</td>\n",
       "      <td>de</td>\n",
       "    </tr>\n",
       "    <tr>\n",
       "      <th>1</th>\n",
       "      <td>der-tagesspiegel</td>\n",
       "      <td>Der Tagesspiegel</td>\n",
       "      <td>Nachrichten, News und neueste Meldungen aus de...</td>\n",
       "      <td>http://www.tagesspiegel.de</td>\n",
       "      <td>general</td>\n",
       "      <td>de</td>\n",
       "      <td>de</td>\n",
       "    </tr>\n",
       "    <tr>\n",
       "      <th>2</th>\n",
       "      <td>die-zeit</td>\n",
       "      <td>Die Zeit</td>\n",
       "      <td>Aktuelle Nachrichten, Kommentare, Analysen und...</td>\n",
       "      <td>http://www.zeit.de/index</td>\n",
       "      <td>business</td>\n",
       "      <td>de</td>\n",
       "      <td>de</td>\n",
       "    </tr>\n",
       "    <tr>\n",
       "      <th>3</th>\n",
       "      <td>focus</td>\n",
       "      <td>Focus</td>\n",
       "      <td>Minutenaktuelle Nachrichten und Service-Inform...</td>\n",
       "      <td>http://www.focus.de</td>\n",
       "      <td>general</td>\n",
       "      <td>de</td>\n",
       "      <td>de</td>\n",
       "    </tr>\n",
       "    <tr>\n",
       "      <th>4</th>\n",
       "      <td>gruenderszene</td>\n",
       "      <td>Gruenderszene</td>\n",
       "      <td>Online-Magazin für Startups und die digitale W...</td>\n",
       "      <td>http://www.gruenderszene.de</td>\n",
       "      <td>technology</td>\n",
       "      <td>de</td>\n",
       "      <td>de</td>\n",
       "    </tr>\n",
       "    <tr>\n",
       "      <th>5</th>\n",
       "      <td>handelsblatt</td>\n",
       "      <td>Handelsblatt</td>\n",
       "      <td>Auf Handelsblatt lesen sie Nachrichten über Un...</td>\n",
       "      <td>http://www.handelsblatt.com</td>\n",
       "      <td>business</td>\n",
       "      <td>de</td>\n",
       "      <td>de</td>\n",
       "    </tr>\n",
       "    <tr>\n",
       "      <th>6</th>\n",
       "      <td>spiegel-online</td>\n",
       "      <td>Spiegel Online</td>\n",
       "      <td>Deutschlands führende Nachrichtenseite. Alles ...</td>\n",
       "      <td>http://www.spiegel.de</td>\n",
       "      <td>general</td>\n",
       "      <td>de</td>\n",
       "      <td>de</td>\n",
       "    </tr>\n",
       "    <tr>\n",
       "      <th>7</th>\n",
       "      <td>t3n</td>\n",
       "      <td>T3n</td>\n",
       "      <td>Das Online-Magazin bietet Artikel zu den Theme...</td>\n",
       "      <td>https://t3n.de</td>\n",
       "      <td>technology</td>\n",
       "      <td>de</td>\n",
       "      <td>de</td>\n",
       "    </tr>\n",
       "    <tr>\n",
       "      <th>8</th>\n",
       "      <td>wired-de</td>\n",
       "      <td>Wired.de</td>\n",
       "      <td>Wired reports on how emerging technologies aff...</td>\n",
       "      <td>https://www.wired.de</td>\n",
       "      <td>technology</td>\n",
       "      <td>de</td>\n",
       "      <td>de</td>\n",
       "    </tr>\n",
       "    <tr>\n",
       "      <th>9</th>\n",
       "      <td>wirtschafts-woche</td>\n",
       "      <td>Wirtschafts Woche</td>\n",
       "      <td>Das Online-Portal des führenden Wirtschaftsmag...</td>\n",
       "      <td>http://www.wiwo.de</td>\n",
       "      <td>business</td>\n",
       "      <td>de</td>\n",
       "      <td>de</td>\n",
       "    </tr>\n",
       "  </tbody>\n",
       "</table>\n",
       "</div>"
      ],
      "text/plain": [
       "                  id               name  \\\n",
       "0               bild               Bild   \n",
       "1   der-tagesspiegel   Der Tagesspiegel   \n",
       "2           die-zeit           Die Zeit   \n",
       "3              focus              Focus   \n",
       "4      gruenderszene      Gruenderszene   \n",
       "5       handelsblatt       Handelsblatt   \n",
       "6     spiegel-online     Spiegel Online   \n",
       "7                t3n                T3n   \n",
       "8           wired-de           Wired.de   \n",
       "9  wirtschafts-woche  Wirtschafts Woche   \n",
       "\n",
       "                                         description  \\\n",
       "0  Die Seite 1 für aktuelle Nachrichten und Theme...   \n",
       "1  Nachrichten, News und neueste Meldungen aus de...   \n",
       "2  Aktuelle Nachrichten, Kommentare, Analysen und...   \n",
       "3  Minutenaktuelle Nachrichten und Service-Inform...   \n",
       "4  Online-Magazin für Startups und die digitale W...   \n",
       "5  Auf Handelsblatt lesen sie Nachrichten über Un...   \n",
       "6  Deutschlands führende Nachrichtenseite. Alles ...   \n",
       "7  Das Online-Magazin bietet Artikel zu den Theme...   \n",
       "8  Wired reports on how emerging technologies aff...   \n",
       "9  Das Online-Portal des führenden Wirtschaftsmag...   \n",
       "\n",
       "                           url    category language country  \n",
       "0           http://www.bild.de     general       de      de  \n",
       "1   http://www.tagesspiegel.de     general       de      de  \n",
       "2     http://www.zeit.de/index    business       de      de  \n",
       "3          http://www.focus.de     general       de      de  \n",
       "4  http://www.gruenderszene.de  technology       de      de  \n",
       "5  http://www.handelsblatt.com    business       de      de  \n",
       "6        http://www.spiegel.de     general       de      de  \n",
       "7               https://t3n.de  technology       de      de  \n",
       "8         https://www.wired.de  technology       de      de  \n",
       "9           http://www.wiwo.de    business       de      de  "
      ]
     },
     "execution_count": 141,
     "metadata": {},
     "output_type": "execute_result"
    }
   ],
   "source": [
    "pd.json_normalize(pd.DataFrame(response.json())[\"sources\"])"
   ]
  },
  {
   "cell_type": "markdown",
   "id": "98ce2548-bb64-4e7f-a112-b3be29e1abbd",
   "metadata": {},
   "source": [
    "## Search news"
   ]
  },
  {
   "cell_type": "code",
   "execution_count": 142,
   "id": "43e69064-3924-4494-92bf-bc322838585e",
   "metadata": {},
   "outputs": [],
   "source": [
    "german_sources = ['bild', 'der-tagesspiegel', 'die-zeit', 'focus', 'gruenderszene', 'handelsblatt', 'spiegel-online', 't3n', 'wired-de', 'wirtschafts-woche']\n",
    "\n",
    "non_covered_german_sources = ['bild', 'die-zeit', 'focus', 't3n']"
   ]
  },
  {
   "cell_type": "code",
   "execution_count": 182,
   "id": "ccc2d0a8-d3ec-45c4-a189-b25c6084c582",
   "metadata": {},
   "outputs": [
    {
     "name": "stdout",
     "output_type": "stream",
     "text": [
      "Requests limit reached. Stopping process ...\n"
     ]
    }
   ],
   "source": [
    "req_limit = 5\n",
    "sources = ['bild']\n",
    "date_from = \"2024-06-17\"\n",
    "date_to = \"2024-06-24\"\n",
    "freq = \"6h\"\n",
    "page_limit = 6\n",
    "\n",
    "all_articles_data = []\n",
    "terminate = False\n",
    "req_count = 0\n",
    "for source in sources:\n",
    "    dates = pd.date_range(date_from, date_to, freq=freq, inclusive=\"both\").strftime(\"%Y-%m-%dT%H:%M:%S\")\n",
    "    for start, stop in zip(dates, dates[1:]):\n",
    "        for page in range(1, page_limit):\n",
    "            response = requests.get(\n",
    "                \"https://newsapi.org/v2/everything\",\n",
    "                params={\n",
    "                    \"apiKey\": API_KEY,\n",
    "                    \"sources\": source,\n",
    "                    \"page\": page,\n",
    "                    \"from\": start,\n",
    "                    \"to\": stop,\n",
    "                }\n",
    "            )\n",
    "            if response.ok:\n",
    "                articles_data = pd.json_normalize(pd.DataFrame(response.json())[\"articles\"])\n",
    "                all_articles_data.append(articles_data)\n",
    "            req_count += 1\n",
    "            if req_count >= req_limit:\n",
    "                terminate = True\n",
    "                print(\"Requests limit reached. Stopping process ...\")\n",
    "                break\n",
    "            if response.ok and articles_data.shape[0] < 100:\n",
    "                break\n",
    "        if terminate:\n",
    "            break\n",
    "    if terminate:\n",
    "        break"
   ]
  },
  {
   "cell_type": "code",
   "execution_count": 183,
   "id": "0d54950e-5fb0-40e8-b4c7-b8de909185ec",
   "metadata": {},
   "outputs": [
    {
     "data": {
      "text/plain": [
       "5"
      ]
     },
     "execution_count": 183,
     "metadata": {},
     "output_type": "execute_result"
    }
   ],
   "source": [
    "req_count"
   ]
  },
  {
   "cell_type": "code",
   "execution_count": 190,
   "id": "57d02406-d2e4-4e6b-95dd-39e8968d4363",
   "metadata": {},
   "outputs": [
    {
     "data": {
      "text/plain": [
       "(281, 9)"
      ]
     },
     "execution_count": 190,
     "metadata": {},
     "output_type": "execute_result"
    }
   ],
   "source": [
    "all_articles_df = pd.concat(all_articles_data, ignore_index=True)\n",
    "all_articles_df = all_articles_df.drop_duplicates(\"url\")\n",
    "all_articles_df.shape"
   ]
  },
  {
   "cell_type": "code",
   "execution_count": 191,
   "id": "7aca5836-476b-4181-a9ee-c49f6bfd0155",
   "metadata": {},
   "outputs": [
    {
     "data": {
      "text/html": [
       "<div>\n",
       "<style scoped>\n",
       "    .dataframe tbody tr th:only-of-type {\n",
       "        vertical-align: middle;\n",
       "    }\n",
       "\n",
       "    .dataframe tbody tr th {\n",
       "        vertical-align: top;\n",
       "    }\n",
       "\n",
       "    .dataframe thead th {\n",
       "        text-align: right;\n",
       "    }\n",
       "</style>\n",
       "<table border=\"1\" class=\"dataframe\">\n",
       "  <thead>\n",
       "    <tr style=\"text-align: right;\">\n",
       "      <th></th>\n",
       "      <th>author</th>\n",
       "      <th>title</th>\n",
       "      <th>description</th>\n",
       "      <th>url</th>\n",
       "      <th>urlToImage</th>\n",
       "      <th>publishedAt</th>\n",
       "      <th>content</th>\n",
       "      <th>source.id</th>\n",
       "      <th>source.name</th>\n",
       "    </tr>\n",
       "  </thead>\n",
       "  <tbody>\n",
       "    <tr>\n",
       "      <th>0</th>\n",
       "      <td>Frank Schneider</td>\n",
       "      <td>Schwere Vorwürfe - Faeser spart Elite-Einheit ...</td>\n",
       "      <td>Die GSG9, die Helden der Bundespolizei, soll k...</td>\n",
       "      <td>https://www.bild.de/politik/inland/polizeigewe...</td>\n",
       "      <td>https://images.bild.de/666ea586d4b71e3396260b2...</td>\n",
       "      <td>2024-06-17T05:57:54Z</td>\n",
       "      <td>Die GSG9 ist die Heldentruppe der Bundespolize...</td>\n",
       "      <td>bild</td>\n",
       "      <td>Bild</td>\n",
       "    </tr>\n",
       "    <tr>\n",
       "      <th>1</th>\n",
       "      <td>None</td>\n",
       "      <td>TV-Kuss machte sie berühmt - Moderatorin liebt...</td>\n",
       "      <td>Diese TV-Moderatorin ist mit einem Fußballer v...</td>\n",
       "      <td>https://www.bild.de/sport/fussball/tv-kuss-mac...</td>\n",
       "      <td>https://images.bild.de/666b0bdbfe290842b49a2dc...</td>\n",
       "      <td>2024-06-17T05:47:13Z</td>\n",
       "      <td>Mehr zum Video anzeigen \\r\\nDiese TV-Moderator...</td>\n",
       "      <td>bild</td>\n",
       "      <td>Bild</td>\n",
       "    </tr>\n",
       "    <tr>\n",
       "      <th>2</th>\n",
       "      <td>Paul Gorgas</td>\n",
       "      <td>Nach Rangnicks Wettbüro-Rat - Darum setze ich ...</td>\n",
       "      <td>Diesem Rat des „Fußball-Professors“ bin ich ge...</td>\n",
       "      <td>https://www.bild.de/sport/fussball/em-2024-dar...</td>\n",
       "      <td>https://images.bild.de/666eeccc3749934428aad0d...</td>\n",
       "      <td>2024-06-17T05:43:16Z</td>\n",
       "      <td>Diesem Rat des Fußball-Professors bin ich gefo...</td>\n",
       "      <td>bild</td>\n",
       "      <td>Bild</td>\n",
       "    </tr>\n",
       "    <tr>\n",
       "      <th>3</th>\n",
       "      <td>None</td>\n",
       "      <td>Hai-Horror auf dem Meer - Jetski-Fahrt wird zu...</td>\n",
       "      <td>Horror-Szenario für jeden Wassersportler. Hai ...</td>\n",
       "      <td>https://www.bild.de/news/ausland/hai-horror-au...</td>\n",
       "      <td>https://images.bild.de/666ab0c0effd1c4f8fc0b87...</td>\n",
       "      <td>2024-06-17T05:38:06Z</td>\n",
       "      <td>Mehr zum Video anzeigen \\r\\nEin Schatten umkre...</td>\n",
       "      <td>bild</td>\n",
       "      <td>Bild</td>\n",
       "    </tr>\n",
       "    <tr>\n",
       "      <th>4</th>\n",
       "      <td>None</td>\n",
       "      <td>Kommt ein Hirsch geflogen - Schreckmoment im L...</td>\n",
       "      <td>Schreckmoment im Bus - hier kommt ein Hirsch g...</td>\n",
       "      <td>https://www.bild.de/news/ausland/kommt-ein-hir...</td>\n",
       "      <td>https://images.bild.de/666a955e968f8c1015b2b86...</td>\n",
       "      <td>2024-06-17T05:37:06Z</td>\n",
       "      <td>Mehr zum Video anzeigen \\r\\nSchreckmoment im B...</td>\n",
       "      <td>bild</td>\n",
       "      <td>Bild</td>\n",
       "    </tr>\n",
       "  </tbody>\n",
       "</table>\n",
       "</div>"
      ],
      "text/plain": [
       "            author                                              title  \\\n",
       "0  Frank Schneider  Schwere Vorwürfe - Faeser spart Elite-Einheit ...   \n",
       "1             None  TV-Kuss machte sie berühmt - Moderatorin liebt...   \n",
       "2      Paul Gorgas  Nach Rangnicks Wettbüro-Rat - Darum setze ich ...   \n",
       "3             None  Hai-Horror auf dem Meer - Jetski-Fahrt wird zu...   \n",
       "4             None  Kommt ein Hirsch geflogen - Schreckmoment im L...   \n",
       "\n",
       "                                         description  \\\n",
       "0  Die GSG9, die Helden der Bundespolizei, soll k...   \n",
       "1  Diese TV-Moderatorin ist mit einem Fußballer v...   \n",
       "2  Diesem Rat des „Fußball-Professors“ bin ich ge...   \n",
       "3  Horror-Szenario für jeden Wassersportler. Hai ...   \n",
       "4  Schreckmoment im Bus - hier kommt ein Hirsch g...   \n",
       "\n",
       "                                                 url  \\\n",
       "0  https://www.bild.de/politik/inland/polizeigewe...   \n",
       "1  https://www.bild.de/sport/fussball/tv-kuss-mac...   \n",
       "2  https://www.bild.de/sport/fussball/em-2024-dar...   \n",
       "3  https://www.bild.de/news/ausland/hai-horror-au...   \n",
       "4  https://www.bild.de/news/ausland/kommt-ein-hir...   \n",
       "\n",
       "                                          urlToImage           publishedAt  \\\n",
       "0  https://images.bild.de/666ea586d4b71e3396260b2...  2024-06-17T05:57:54Z   \n",
       "1  https://images.bild.de/666b0bdbfe290842b49a2dc...  2024-06-17T05:47:13Z   \n",
       "2  https://images.bild.de/666eeccc3749934428aad0d...  2024-06-17T05:43:16Z   \n",
       "3  https://images.bild.de/666ab0c0effd1c4f8fc0b87...  2024-06-17T05:38:06Z   \n",
       "4  https://images.bild.de/666a955e968f8c1015b2b86...  2024-06-17T05:37:06Z   \n",
       "\n",
       "                                             content source.id source.name  \n",
       "0  Die GSG9 ist die Heldentruppe der Bundespolize...      bild        Bild  \n",
       "1  Mehr zum Video anzeigen \\r\\nDiese TV-Moderator...      bild        Bild  \n",
       "2  Diesem Rat des Fußball-Professors bin ich gefo...      bild        Bild  \n",
       "3  Mehr zum Video anzeigen \\r\\nEin Schatten umkre...      bild        Bild  \n",
       "4  Mehr zum Video anzeigen \\r\\nSchreckmoment im B...      bild        Bild  "
      ]
     },
     "execution_count": 191,
     "metadata": {},
     "output_type": "execute_result"
    }
   ],
   "source": [
    "all_articles_df.head()"
   ]
  },
  {
   "cell_type": "code",
   "execution_count": 192,
   "id": "45a60f36-c3b7-4a8a-a39a-ed842b145897",
   "metadata": {},
   "outputs": [
    {
     "data": {
      "text/plain": [
       "publishedAt\n",
       "2024-06-17 00:00:00+00:00     1\n",
       "2024-06-17 01:00:00+00:00     1\n",
       "2024-06-17 02:00:00+00:00     4\n",
       "2024-06-17 04:00:00+00:00     1\n",
       "2024-06-17 05:00:00+00:00    11\n",
       "2024-06-17 06:00:00+00:00    17\n",
       "2024-06-17 07:00:00+00:00    15\n",
       "2024-06-17 08:00:00+00:00    16\n",
       "2024-06-17 09:00:00+00:00    28\n",
       "2024-06-17 10:00:00+00:00    22\n",
       "2024-06-17 11:00:00+00:00    29\n",
       "2024-06-17 12:00:00+00:00    21\n",
       "2024-06-17 13:00:00+00:00    26\n",
       "2024-06-17 14:00:00+00:00    34\n",
       "2024-06-17 15:00:00+00:00    22\n",
       "2024-06-17 16:00:00+00:00    20\n",
       "2024-06-17 17:00:00+00:00    13\n",
       "Name: count, dtype: int64"
      ]
     },
     "execution_count": 192,
     "metadata": {},
     "output_type": "execute_result"
    }
   ],
   "source": [
    "pd.to_datetime(all_articles_df[\"publishedAt\"]).dt.floor(\"1h\").value_counts().sort_index()"
   ]
  },
  {
   "cell_type": "code",
   "execution_count": 188,
   "id": "3b39b1cb-c66e-4c8d-a43f-5d77b03b727e",
   "metadata": {},
   "outputs": [
    {
     "data": {
      "text/plain": [
       "count    281.000000\n",
       "mean     209.131673\n",
       "std       18.781272\n",
       "min      106.000000\n",
       "25%      213.000000\n",
       "50%      214.000000\n",
       "75%      214.000000\n",
       "max      215.000000\n",
       "Name: content, dtype: float64"
      ]
     },
     "execution_count": 188,
     "metadata": {},
     "output_type": "execute_result"
    }
   ],
   "source": [
    "all_articles_df[\"content\"].apply(len).describe()"
   ]
  },
  {
   "cell_type": "code",
   "execution_count": 189,
   "id": "8ffb54f2-7b86-4156-ab5c-014260d306b8",
   "metadata": {},
   "outputs": [
    {
     "data": {
      "text/plain": [
       "'Die GSG9 ist die Heldentruppe der Bundespolizei, ist durch Geiselbefreiungsaktionen wie in Mogadischu (1977) zum Mythos geworden!\\r\\nJetzt soll auch sie kaputtgespart werden, fürchten Polizisten. Heiko… [+2690 chars]'"
      ]
     },
     "execution_count": 189,
     "metadata": {},
     "output_type": "execute_result"
    }
   ],
   "source": [
    "all_articles_df[\"content\"][0]"
   ]
  },
  {
   "cell_type": "code",
   "execution_count": 196,
   "id": "8f531522-dcfa-426d-ac66-950ffef8d5c5",
   "metadata": {},
   "outputs": [
    {
     "data": {
      "text/plain": [
       "'https://www.bild.de/sport/fussball/em-2024-schmerz-gestaendnis-von-toni-kroos-wurde-wirklich-schlecht-6670380595ece052074aac11'"
      ]
     },
     "execution_count": 196,
     "metadata": {},
     "output_type": "execute_result"
    }
   ],
   "source": [
    "all_articles_df[\"url\"].sample(1).iloc[0]"
   ]
  },
  {
   "cell_type": "code",
   "execution_count": null,
   "id": "7ae92e82-2d6e-4a57-9dc2-b79f03594339",
   "metadata": {},
   "outputs": [],
   "source": []
  }
 ],
 "metadata": {
  "kernelspec": {
   "display_name": "insightfinder",
   "language": "python",
   "name": "insightfinder"
  },
  "language_info": {
   "codemirror_mode": {
    "name": "ipython",
    "version": 3
   },
   "file_extension": ".py",
   "mimetype": "text/x-python",
   "name": "python",
   "nbconvert_exporter": "python",
   "pygments_lexer": "ipython3",
   "version": "3.10.11"
  }
 },
 "nbformat": 4,
 "nbformat_minor": 5
}
