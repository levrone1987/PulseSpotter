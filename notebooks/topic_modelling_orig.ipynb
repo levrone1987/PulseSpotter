{
 "cells": [
  {
   "cell_type": "code",
   "execution_count": null,
   "id": "f4f14671-52a1-4b76-a9da-5f57ddff3ac9",
   "metadata": {},
   "outputs": [],
   "source": [
    "#%pip install pandas pymongo bertopic spacy --quiet"
   ]
  },
  {
   "cell_type": "code",
   "execution_count": null,
   "id": "5d9e214d",
   "metadata": {},
   "outputs": [],
   "source": [
    "#%pip install langchain-openai"
   ]
  },
  {
   "cell_type": "code",
   "execution_count": 2,
   "id": "72faaa86",
   "metadata": {},
   "outputs": [],
   "source": [
    "import spacy"
   ]
  },
  {
   "cell_type": "code",
   "execution_count": 1,
   "id": "4ce100fc-746e-4874-bb0d-9b8ba36b9fc5",
   "metadata": {},
   "outputs": [
    {
     "name": "stdout",
     "output_type": "stream",
     "text": [
      "/home/mirza/miniconda3/bin/python: No module named spacy\r\n"
     ]
    }
   ],
   "source": [
    "spacy_model_name = \"de_core_news_md\"\n",
    "!python -m spacy download {spacy_model_name} --quiet"
   ]
  },
  {
   "cell_type": "code",
   "execution_count": 16,
   "id": "0d049271",
   "metadata": {},
   "outputs": [
    {
     "name": "stdout",
     "output_type": "stream",
     "text": [
      "Requirement already satisfied: spacy in /home/mirza/miniconda3/envs/medialab-env/lib/python3.10/site-packages (3.7.5)\n",
      "Requirement already satisfied: spacy-legacy<3.1.0,>=3.0.11 in /home/mirza/miniconda3/envs/medialab-env/lib/python3.10/site-packages (from spacy) (3.0.12)\n",
      "Requirement already satisfied: spacy-loggers<2.0.0,>=1.0.0 in /home/mirza/miniconda3/envs/medialab-env/lib/python3.10/site-packages (from spacy) (1.0.5)\n",
      "Requirement already satisfied: murmurhash<1.1.0,>=0.28.0 in /home/mirza/miniconda3/envs/medialab-env/lib/python3.10/site-packages (from spacy) (1.0.10)\n",
      "Requirement already satisfied: cymem<2.1.0,>=2.0.2 in /home/mirza/miniconda3/envs/medialab-env/lib/python3.10/site-packages (from spacy) (2.0.8)\n",
      "Requirement already satisfied: preshed<3.1.0,>=3.0.2 in /home/mirza/miniconda3/envs/medialab-env/lib/python3.10/site-packages (from spacy) (3.0.9)\n",
      "Requirement already satisfied: thinc<8.3.0,>=8.2.2 in /home/mirza/miniconda3/envs/medialab-env/lib/python3.10/site-packages (from spacy) (8.2.5)\n",
      "Requirement already satisfied: wasabi<1.2.0,>=0.9.1 in /home/mirza/miniconda3/envs/medialab-env/lib/python3.10/site-packages (from spacy) (1.1.3)\n",
      "Requirement already satisfied: srsly<3.0.0,>=2.4.3 in /home/mirza/miniconda3/envs/medialab-env/lib/python3.10/site-packages (from spacy) (2.4.8)\n",
      "Requirement already satisfied: catalogue<2.1.0,>=2.0.6 in /home/mirza/miniconda3/envs/medialab-env/lib/python3.10/site-packages (from spacy) (2.0.10)\n",
      "Requirement already satisfied: weasel<0.5.0,>=0.1.0 in /home/mirza/miniconda3/envs/medialab-env/lib/python3.10/site-packages (from spacy) (0.4.1)\n",
      "Requirement already satisfied: typer<1.0.0,>=0.3.0 in /home/mirza/miniconda3/envs/medialab-env/lib/python3.10/site-packages (from spacy) (0.12.3)\n",
      "Requirement already satisfied: tqdm<5.0.0,>=4.38.0 in /home/mirza/.local/lib/python3.10/site-packages (from spacy) (4.66.1)\n",
      "Requirement already satisfied: requests<3.0.0,>=2.13.0 in /home/mirza/.local/lib/python3.10/site-packages (from spacy) (2.31.0)\n",
      "Requirement already satisfied: pydantic!=1.8,!=1.8.1,<3.0.0,>=1.7.4 in /home/mirza/miniconda3/envs/medialab-env/lib/python3.10/site-packages (from spacy) (2.7.4)\n",
      "Requirement already satisfied: jinja2 in /home/mirza/miniconda3/envs/medialab-env/lib/python3.10/site-packages (from spacy) (3.1.4)\n",
      "Requirement already satisfied: setuptools in /home/mirza/miniconda3/envs/medialab-env/lib/python3.10/site-packages (from spacy) (69.5.1)\n",
      "Requirement already satisfied: packaging>=20.0 in /home/mirza/miniconda3/envs/medialab-env/lib/python3.10/site-packages (from spacy) (24.0)\n",
      "Requirement already satisfied: langcodes<4.0.0,>=3.2.0 in /home/mirza/miniconda3/envs/medialab-env/lib/python3.10/site-packages (from spacy) (3.4.0)\n",
      "Requirement already satisfied: numpy>=1.19.0 in /home/mirza/miniconda3/envs/medialab-env/lib/python3.10/site-packages (from spacy) (1.26.4)\n",
      "Requirement already satisfied: language-data>=1.2 in /home/mirza/miniconda3/envs/medialab-env/lib/python3.10/site-packages (from langcodes<4.0.0,>=3.2.0->spacy) (1.2.0)\n",
      "Requirement already satisfied: annotated-types>=0.4.0 in /home/mirza/miniconda3/envs/medialab-env/lib/python3.10/site-packages (from pydantic!=1.8,!=1.8.1,<3.0.0,>=1.7.4->spacy) (0.7.0)\n",
      "Requirement already satisfied: pydantic-core==2.18.4 in /home/mirza/miniconda3/envs/medialab-env/lib/python3.10/site-packages (from pydantic!=1.8,!=1.8.1,<3.0.0,>=1.7.4->spacy) (2.18.4)\n",
      "Requirement already satisfied: typing-extensions>=4.6.1 in /home/mirza/miniconda3/envs/medialab-env/lib/python3.10/site-packages (from pydantic!=1.8,!=1.8.1,<3.0.0,>=1.7.4->spacy) (4.11.0)\n",
      "Requirement already satisfied: charset-normalizer<4,>=2 in /home/mirza/.local/lib/python3.10/site-packages (from requests<3.0.0,>=2.13.0->spacy) (3.2.0)\n",
      "Requirement already satisfied: idna<4,>=2.5 in /home/mirza/miniconda3/envs/medialab-env/lib/python3.10/site-packages (from requests<3.0.0,>=2.13.0->spacy) (3.7)\n",
      "Requirement already satisfied: urllib3<3,>=1.21.1 in /home/mirza/miniconda3/envs/medialab-env/lib/python3.10/site-packages (from requests<3.0.0,>=2.13.0->spacy) (2.2.1)\n",
      "Requirement already satisfied: certifi>=2017.4.17 in /home/mirza/miniconda3/envs/medialab-env/lib/python3.10/site-packages (from requests<3.0.0,>=2.13.0->spacy) (2024.2.2)\n",
      "Requirement already satisfied: blis<0.8.0,>=0.7.8 in /home/mirza/miniconda3/envs/medialab-env/lib/python3.10/site-packages (from thinc<8.3.0,>=8.2.2->spacy) (0.7.11)\n",
      "Requirement already satisfied: confection<1.0.0,>=0.0.1 in /home/mirza/miniconda3/envs/medialab-env/lib/python3.10/site-packages (from thinc<8.3.0,>=8.2.2->spacy) (0.1.5)\n",
      "Requirement already satisfied: click>=8.0.0 in /home/mirza/miniconda3/envs/medialab-env/lib/python3.10/site-packages (from typer<1.0.0,>=0.3.0->spacy) (8.1.7)\n",
      "Requirement already satisfied: shellingham>=1.3.0 in /home/mirza/miniconda3/envs/medialab-env/lib/python3.10/site-packages (from typer<1.0.0,>=0.3.0->spacy) (1.5.4)\n",
      "Requirement already satisfied: rich>=10.11.0 in /home/mirza/.local/lib/python3.10/site-packages (from typer<1.0.0,>=0.3.0->spacy) (13.5.2)\n",
      "Requirement already satisfied: cloudpathlib<1.0.0,>=0.7.0 in /home/mirza/miniconda3/envs/medialab-env/lib/python3.10/site-packages (from weasel<0.5.0,>=0.1.0->spacy) (0.18.1)\n",
      "Requirement already satisfied: smart-open<8.0.0,>=5.2.1 in /home/mirza/miniconda3/envs/medialab-env/lib/python3.10/site-packages (from weasel<0.5.0,>=0.1.0->spacy) (7.0.4)\n",
      "Requirement already satisfied: MarkupSafe>=2.0 in /home/mirza/miniconda3/envs/medialab-env/lib/python3.10/site-packages (from jinja2->spacy) (2.1.5)\n",
      "Requirement already satisfied: marisa-trie>=0.7.7 in /home/mirza/miniconda3/envs/medialab-env/lib/python3.10/site-packages (from language-data>=1.2->langcodes<4.0.0,>=3.2.0->spacy) (1.2.0)\n",
      "Requirement already satisfied: markdown-it-py>=2.2.0 in /home/mirza/.local/lib/python3.10/site-packages (from rich>=10.11.0->typer<1.0.0,>=0.3.0->spacy) (3.0.0)\n",
      "Requirement already satisfied: pygments<3.0.0,>=2.13.0 in /home/mirza/.local/lib/python3.10/site-packages (from rich>=10.11.0->typer<1.0.0,>=0.3.0->spacy) (2.16.1)\n",
      "Requirement already satisfied: wrapt in /home/mirza/miniconda3/envs/medialab-env/lib/python3.10/site-packages (from smart-open<8.0.0,>=5.2.1->weasel<0.5.0,>=0.1.0->spacy) (1.16.0)\n",
      "Requirement already satisfied: mdurl~=0.1 in /home/mirza/.local/lib/python3.10/site-packages (from markdown-it-py>=2.2.0->rich>=10.11.0->typer<1.0.0,>=0.3.0->spacy) (0.1.2)\n",
      "Note: you may need to restart the kernel to use updated packages.\n"
     ]
    }
   ],
   "source": [
    "%pip install spacy"
   ]
  },
  {
   "cell_type": "code",
   "execution_count": null,
   "id": "8bd72230",
   "metadata": {},
   "outputs": [],
   "source": [
    "# sensorz notebook\n",
    "import sys\n",
    "import os\n",
    "\n",
    "# Add the parent directory to the Python path\n",
    "sys.path.append(os.path.abspath(os.path.join(os.getcwd(), '..')))"
   ]
  },
  {
   "cell_type": "code",
   "execution_count": 1,
   "id": "61b50db2-bf02-4de7-92ec-416e95fde762",
   "metadata": {},
   "outputs": [
    {
     "name": "stderr",
     "output_type": "stream",
     "text": [
      "/home/mirza/.local/lib/python3.10/site-packages/tqdm/auto.py:21: TqdmWarning: IProgress not found. Please update jupyter and ipywidgets. See https://ipywidgets.readthedocs.io/en/stable/user_install.html\n",
      "  from .autonotebook import tqdm as notebook_tqdm\n"
     ]
    },
    {
     "data": {
      "text/plain": [
       "True"
      ]
     },
     "execution_count": 1,
     "metadata": {},
     "output_type": "execute_result"
    }
   ],
   "source": [
    "import os\n",
    "from pathlib import Path\n",
    "\n",
    "import numpy as np\n",
    "import openai\n",
    "import pandas as pd\n",
    "import spacy\n",
    "\n",
    "from datetime import datetime\n",
    "from dotenv import load_dotenv\n",
    "from pymongo import MongoClient, errors\n",
    "from tqdm import tqdm\n",
    "\n",
    "# bertopic components\n",
    "from bertopic import BERTopic\n",
    "from bertopic.representation import OpenAI\n",
    "from bertopic.vectorizers import ClassTfidfTransformer\n",
    "from sklearn.feature_extraction.text import CountVectorizer\n",
    "from umap import UMAP\n",
    "\n",
    "load_dotenv(\"../.env\")"
   ]
  },
  {
   "cell_type": "markdown",
   "id": "9f58ca31-1357-409d-80fc-711c48db258a",
   "metadata": {},
   "source": [
    "# Data extraction"
   ]
  },
  {
   "cell_type": "code",
   "execution_count": 2,
   "id": "22f54e56-0c7b-4f4d-96bc-7d0224d9b59a",
   "metadata": {},
   "outputs": [],
   "source": [
    "MONGO_DATABASE = 'insightfinder-dev'\n",
    "MONGO_COLLECTION = 'content'\n",
    "MONGO_HOST = os.getenv(\"MONGO_HOST\")"
   ]
  },
  {
   "cell_type": "code",
   "execution_count": 3,
   "id": "b70412d6-9ca2-492e-a910-b345a205951f",
   "metadata": {},
   "outputs": [],
   "source": [
    "def generate_data(query: dict, projection: dict = None, sort_order: list = None, limit: int = None):\n",
    "    try:\n",
    "        with MongoClient(MONGO_HOST) as mongo_client:\n",
    "            db = mongo_client[MONGO_DATABASE]\n",
    "            collection = db[MONGO_COLLECTION]\n",
    "            res = collection.find(query, projection or {})\n",
    "            if sort_order:\n",
    "                res = res.sort(sort_order)\n",
    "            if limit:\n",
    "                res = res.limit(limit)\n",
    "            yield from res\n",
    "    except errors.PyMongoError as e:\n",
    "        self.logger.error(f\"MongoDB error: {e}\")\n",
    "    except Exception as e:\n",
    "        print(f\"An unexpected error occurred: {e}\")\n",
    "\n",
    "\n",
    "def preprocess_paragraphs(paragraphs):\n",
    "    if not isinstance(paragraphs, list):\n",
    "        return None\n",
    "    return \" \".join(p.strip() for p in paragraphs if len(p.strip()) > 0)"
   ]
  },
  {
   "cell_type": "code",
   "execution_count": 6,
   "id": "14d61479-3301-48be-ab4e-88dc9b31b324",
   "metadata": {},
   "outputs": [],
   "source": [
    "#query = {\"visited\": True, \"parsed_date\": {\"$exists\": True, \"$ne\": None, \"$gte\": \"2024-05-20\"}}\n",
    "query = {\"visited\": True, \"parsed_date\": {\"$exists\": True, \"$ne\": None, \"$gte\": \"2024-05-20\", \"$lte\": \"2024-06-04\"}}\n",
    "projection = {\"_id\": 1, \"url\": 1, \"parsed_date\": 1, \"title\": 1, \"description\": 1, \"paragraphs\": 1, \"site_name\": 1}\n",
    "sort_order = [(\"parsed_date\", -1)]\n",
    "limit = None\n",
    "\n",
    "data_generator = generate_data(query, projection, sort_order, limit)\n",
    "df = pd.DataFrame(data_generator)\n",
    "df[\"paragraphs\"] = df[\"paragraphs\"].apply(preprocess_paragraphs)"
   ]
  },
  {
   "cell_type": "code",
   "execution_count": 7,
   "id": "8386fcdb-12ae-4ba4-9f0f-44e2705e3465",
   "metadata": {},
   "outputs": [
    {
     "data": {
      "text/html": [
       "<div>\n",
       "<style scoped>\n",
       "    .dataframe tbody tr th:only-of-type {\n",
       "        vertical-align: middle;\n",
       "    }\n",
       "\n",
       "    .dataframe tbody tr th {\n",
       "        vertical-align: top;\n",
       "    }\n",
       "\n",
       "    .dataframe thead th {\n",
       "        text-align: right;\n",
       "    }\n",
       "</style>\n",
       "<table border=\"1\" class=\"dataframe\">\n",
       "  <thead>\n",
       "    <tr style=\"text-align: right;\">\n",
       "      <th></th>\n",
       "      <th>_id</th>\n",
       "      <th>url</th>\n",
       "      <th>site_name</th>\n",
       "      <th>title</th>\n",
       "      <th>description</th>\n",
       "      <th>parsed_date</th>\n",
       "      <th>paragraphs</th>\n",
       "    </tr>\n",
       "  </thead>\n",
       "  <tbody>\n",
       "    <tr>\n",
       "      <th>0</th>\n",
       "      <td>665f2b2616149b97234e0309</td>\n",
       "      <td>https://www.faz.net/aktuell/politik/inland/man...</td>\n",
       "      <td>faz</td>\n",
       "      <td>Ein gut integrierter Einzeltäter</td>\n",
       "      <td>Am Ort des Geschehens: Einsatzkräfte der Poliz...</td>\n",
       "      <td>2024-06-04</td>\n",
       "      <td>Nach Erkenntnissen der Sicherheitsbehörden han...</td>\n",
       "    </tr>\n",
       "    <tr>\n",
       "      <th>1</th>\n",
       "      <td>665f2b2816149b97234e030a</td>\n",
       "      <td>https://www.faz.net/aktuell/politik/inland/fus...</td>\n",
       "      <td>faz</td>\n",
       "      <td>„Hundertprozentige Sicherheit kann es nicht ge...</td>\n",
       "      <td>Polizeibeamte vor einem Fußballspiel in Frankf...</td>\n",
       "      <td>2024-06-04</td>\n",
       "      <td>Die Sicherheitsbehörden von Bund und Ländern s...</td>\n",
       "    </tr>\n",
       "    <tr>\n",
       "      <th>2</th>\n",
       "      <td>665f2b2c16149b97234e030b</td>\n",
       "      <td>https://www.faz.net/aktuell/politik/inland/rei...</td>\n",
       "      <td>faz</td>\n",
       "      <td>Razzia gegen Reichtsbürger-Gruppe um Prinz Reuß</td>\n",
       "      <td>Vor Gericht: Heinrich XIII. Prinz Reuß im Vorf...</td>\n",
       "      <td>2024-06-04</td>\n",
       "      <td>Mit einer Razzia geht die Bundesanwaltschaft g...</td>\n",
       "    </tr>\n",
       "    <tr>\n",
       "      <th>3</th>\n",
       "      <td>665f2b2f16149b97234e030c</td>\n",
       "      <td>https://www.faz.net/aktuell/politik/europawahl...</td>\n",
       "      <td>faz</td>\n",
       "      <td>Die Jugend wird immer politischer</td>\n",
       "      <td>Die Jugend von heute: Klimaschützer von Friday...</td>\n",
       "      <td>2024-06-04</td>\n",
       "      <td>Wenn man der deutschen Jugend vor zwanzig Jahr...</td>\n",
       "    </tr>\n",
       "    <tr>\n",
       "      <th>4</th>\n",
       "      <td>665f2b3216149b97234e030d</td>\n",
       "      <td>https://www.faz.net/aktuell/politik/inland/mes...</td>\n",
       "      <td>faz</td>\n",
       "      <td>Abschiebungen nach Afghanistan sind kein Tabu ...</td>\n",
       "      <td>Polizisten bringen einen jungem Mann 2018 in F...</td>\n",
       "      <td>2024-06-04</td>\n",
       "      <td>Es dauerte nur wenige Stunden, bis aus der Ers...</td>\n",
       "    </tr>\n",
       "    <tr>\n",
       "      <th>...</th>\n",
       "      <td>...</td>\n",
       "      <td>...</td>\n",
       "      <td>...</td>\n",
       "      <td>...</td>\n",
       "      <td>...</td>\n",
       "      <td>...</td>\n",
       "      <td>...</td>\n",
       "    </tr>\n",
       "    <tr>\n",
       "      <th>7070</th>\n",
       "      <td>667ca42780bf11d515077b5f</td>\n",
       "      <td>https://www.tagesspiegel.de/politik/17-million...</td>\n",
       "      <td>tagesspiegel</td>\n",
       "      <td>Stimmungstest mit 1,7 Millionen Wahlberechtigt...</td>\n",
       "      <td>2018 wurde die CDU mit knapp 38 Prozent stärks...</td>\n",
       "      <td>2024-05-20</td>\n",
       "      <td>An diesem Sonntag sind in Thüringen rund 1,7 M...</td>\n",
       "    </tr>\n",
       "    <tr>\n",
       "      <th>7071</th>\n",
       "      <td>667ca42980bf11d515077b60</td>\n",
       "      <td>https://www.tagesspiegel.de/berlin/spezialtauc...</td>\n",
       "      <td>tagesspiegel</td>\n",
       "      <td>Spezialtaucher finden Körper in Berliner Spree...</td>\n",
       "      <td>Am Friedrichshainer Spreeufer bergen Spezialta...</td>\n",
       "      <td>2024-05-20</td>\n",
       "      <td>Ein Mann ist in Berlin-Friedrichshain von der ...</td>\n",
       "    </tr>\n",
       "    <tr>\n",
       "      <th>7072</th>\n",
       "      <td>667ca42c80bf11d515077b61</td>\n",
       "      <td>https://www.tagesspiegel.de/berlin/bezirke/ein...</td>\n",
       "      <td>tagesspiegel</td>\n",
       "      <td>„Eine Nord-Süd-Verbindung für Zehlendorf“ :  E...</td>\n",
       "      <td>Vom Ku’damm über die Clayallee nach Zehlendorf...</td>\n",
       "      <td>2024-05-20</td>\n",
       "      <td>Herr Conrad, wo soll Ihrer Meinung eine Straße...</td>\n",
       "    </tr>\n",
       "    <tr>\n",
       "      <th>7073</th>\n",
       "      <td>667ca42f80bf11d515077b62</td>\n",
       "      <td>https://www.tagesspiegel.de/gesellschaft/entza...</td>\n",
       "      <td>tagesspiegel</td>\n",
       "      <td>Entzauberte Elternmythen :  „Bildschirmzeit is...</td>\n",
       "      <td>Warum Sushi in der Schwangerschaft okay ist un...</td>\n",
       "      <td>2024-05-20</td>\n",
       "      <td>Kein Thema ist Tabu, wenn sich täglich Hundert...</td>\n",
       "    </tr>\n",
       "    <tr>\n",
       "      <th>7074</th>\n",
       "      <td>667ca43280bf11d515077b63</td>\n",
       "      <td>https://www.tagesspiegel.de/berlin/marode-offe...</td>\n",
       "      <td>tagesspiegel</td>\n",
       "      <td>Marode öffentliche Gebäude :  Sanierungsstau i...</td>\n",
       "      <td>Das Land Berlin muss immer mehr Geld aufbringe...</td>\n",
       "      <td>2024-05-20</td>\n",
       "      <td>Der Sanierungsstau bei den öffentlichen Gebäud...</td>\n",
       "    </tr>\n",
       "  </tbody>\n",
       "</table>\n",
       "<p>7075 rows × 7 columns</p>\n",
       "</div>"
      ],
      "text/plain": [
       "                           _id  \\\n",
       "0     665f2b2616149b97234e0309   \n",
       "1     665f2b2816149b97234e030a   \n",
       "2     665f2b2c16149b97234e030b   \n",
       "3     665f2b2f16149b97234e030c   \n",
       "4     665f2b3216149b97234e030d   \n",
       "...                        ...   \n",
       "7070  667ca42780bf11d515077b5f   \n",
       "7071  667ca42980bf11d515077b60   \n",
       "7072  667ca42c80bf11d515077b61   \n",
       "7073  667ca42f80bf11d515077b62   \n",
       "7074  667ca43280bf11d515077b63   \n",
       "\n",
       "                                                    url     site_name  \\\n",
       "0     https://www.faz.net/aktuell/politik/inland/man...           faz   \n",
       "1     https://www.faz.net/aktuell/politik/inland/fus...           faz   \n",
       "2     https://www.faz.net/aktuell/politik/inland/rei...           faz   \n",
       "3     https://www.faz.net/aktuell/politik/europawahl...           faz   \n",
       "4     https://www.faz.net/aktuell/politik/inland/mes...           faz   \n",
       "...                                                 ...           ...   \n",
       "7070  https://www.tagesspiegel.de/politik/17-million...  tagesspiegel   \n",
       "7071  https://www.tagesspiegel.de/berlin/spezialtauc...  tagesspiegel   \n",
       "7072  https://www.tagesspiegel.de/berlin/bezirke/ein...  tagesspiegel   \n",
       "7073  https://www.tagesspiegel.de/gesellschaft/entza...  tagesspiegel   \n",
       "7074  https://www.tagesspiegel.de/berlin/marode-offe...  tagesspiegel   \n",
       "\n",
       "                                                  title  \\\n",
       "0                      Ein gut integrierter Einzeltäter   \n",
       "1     „Hundertprozentige Sicherheit kann es nicht ge...   \n",
       "2       Razzia gegen Reichtsbürger-Gruppe um Prinz Reuß   \n",
       "3                     Die Jugend wird immer politischer   \n",
       "4     Abschiebungen nach Afghanistan sind kein Tabu ...   \n",
       "...                                                 ...   \n",
       "7070  Stimmungstest mit 1,7 Millionen Wahlberechtigt...   \n",
       "7071  Spezialtaucher finden Körper in Berliner Spree...   \n",
       "7072  „Eine Nord-Süd-Verbindung für Zehlendorf“ :  E...   \n",
       "7073  Entzauberte Elternmythen :  „Bildschirmzeit is...   \n",
       "7074  Marode öffentliche Gebäude :  Sanierungsstau i...   \n",
       "\n",
       "                                            description parsed_date  \\\n",
       "0     Am Ort des Geschehens: Einsatzkräfte der Poliz...  2024-06-04   \n",
       "1     Polizeibeamte vor einem Fußballspiel in Frankf...  2024-06-04   \n",
       "2     Vor Gericht: Heinrich XIII. Prinz Reuß im Vorf...  2024-06-04   \n",
       "3     Die Jugend von heute: Klimaschützer von Friday...  2024-06-04   \n",
       "4     Polizisten bringen einen jungem Mann 2018 in F...  2024-06-04   \n",
       "...                                                 ...         ...   \n",
       "7070  2018 wurde die CDU mit knapp 38 Prozent stärks...  2024-05-20   \n",
       "7071  Am Friedrichshainer Spreeufer bergen Spezialta...  2024-05-20   \n",
       "7072  Vom Ku’damm über die Clayallee nach Zehlendorf...  2024-05-20   \n",
       "7073  Warum Sushi in der Schwangerschaft okay ist un...  2024-05-20   \n",
       "7074  Das Land Berlin muss immer mehr Geld aufbringe...  2024-05-20   \n",
       "\n",
       "                                             paragraphs  \n",
       "0     Nach Erkenntnissen der Sicherheitsbehörden han...  \n",
       "1     Die Sicherheitsbehörden von Bund und Ländern s...  \n",
       "2     Mit einer Razzia geht die Bundesanwaltschaft g...  \n",
       "3     Wenn man der deutschen Jugend vor zwanzig Jahr...  \n",
       "4     Es dauerte nur wenige Stunden, bis aus der Ers...  \n",
       "...                                                 ...  \n",
       "7070  An diesem Sonntag sind in Thüringen rund 1,7 M...  \n",
       "7071  Ein Mann ist in Berlin-Friedrichshain von der ...  \n",
       "7072  Herr Conrad, wo soll Ihrer Meinung eine Straße...  \n",
       "7073  Kein Thema ist Tabu, wenn sich täglich Hundert...  \n",
       "7074  Der Sanierungsstau bei den öffentlichen Gebäud...  \n",
       "\n",
       "[7075 rows x 7 columns]"
      ]
     },
     "execution_count": 7,
     "metadata": {},
     "output_type": "execute_result"
    }
   ],
   "source": [
    "df"
   ]
  },
  {
   "cell_type": "code",
   "execution_count": 8,
   "id": "25e8dada-ef65-4a3b-92a2-61d859b2a147",
   "metadata": {},
   "outputs": [
    {
     "data": {
      "text/plain": [
       "site_name\n",
       "tagesspiegel    2121\n",
       "spiegel         1723\n",
       "faz             1720\n",
       "heise            589\n",
       "handelsblatt     515\n",
       "tagesschau       407\n",
       "Name: count, dtype: int64"
      ]
     },
     "execution_count": 8,
     "metadata": {},
     "output_type": "execute_result"
    }
   ],
   "source": [
    "df[\"site_name\"].value_counts()"
   ]
  },
  {
   "cell_type": "markdown",
   "id": "c7c61a11-96c5-400a-a819-538abae0f1be",
   "metadata": {},
   "source": [
    "# Prepare data"
   ]
  },
  {
   "cell_type": "code",
   "execution_count": 9,
   "id": "1a3116a3-7d27-4487-a444-1e6684391cca",
   "metadata": {},
   "outputs": [],
   "source": [
    "def build_documents(record):\n",
    "    components = [record.get(\"title\"), record.get(\"description\"), record.get(\"paragraphs\")]\n",
    "    document = \" \".join(c.strip() for c in components if c is not None and len(c.strip()) > 0)\n",
    "    document = document.strip()\n",
    "    return document"
   ]
  },
  {
   "cell_type": "code",
   "execution_count": 10,
   "id": "9f687199-6e05-4d69-a1c3-0626a4f15fba",
   "metadata": {},
   "outputs": [
    {
     "data": {
      "text/plain": [
       "count     7075.000000\n",
       "mean      2415.627138\n",
       "std       2157.369548\n",
       "min          0.000000\n",
       "25%        764.000000\n",
       "50%       2039.000000\n",
       "75%       3299.500000\n",
       "max      27871.000000\n",
       "Name: document, dtype: float64"
      ]
     },
     "execution_count": 10,
     "metadata": {},
     "output_type": "execute_result"
    }
   ],
   "source": [
    "df[\"document\"] = df.apply(build_documents, axis=1)\n",
    "df[\"document\"].apply(len).describe()"
   ]
  },
  {
   "cell_type": "code",
   "execution_count": 11,
   "id": "ca68eff7-2bb9-44eb-b81b-0d5a3050db91",
   "metadata": {},
   "outputs": [
    {
     "data": {
      "text/plain": [
       "(7065, 8)"
      ]
     },
     "execution_count": 11,
     "metadata": {},
     "output_type": "execute_result"
    }
   ],
   "source": [
    "df = df.loc[df[\"document\"].str.len() > 0]\n",
    "df.shape"
   ]
  },
  {
   "cell_type": "code",
   "execution_count": 14,
   "id": "4c201c3e-34e4-4355-a58b-368edf112f84",
   "metadata": {},
   "outputs": [
    {
     "ename": "OSError",
     "evalue": "[E050] Can't find model 'de_core_news_md'. It doesn't seem to be a Python package or a valid path to a data directory.",
     "output_type": "error",
     "traceback": [
      "\u001b[0;31m---------------------------------------------------------------------------\u001b[0m",
      "\u001b[0;31mOSError\u001b[0m                                   Traceback (most recent call last)",
      "Cell \u001b[0;32mIn[14], line 1\u001b[0m\n\u001b[0;32m----> 1\u001b[0m nlp \u001b[38;5;241m=\u001b[39m \u001b[43mspacy\u001b[49m\u001b[38;5;241;43m.\u001b[39;49m\u001b[43mload\u001b[49m\u001b[43m(\u001b[49m\u001b[43mspacy_model_name\u001b[49m\u001b[43m)\u001b[49m\n\u001b[1;32m      3\u001b[0m \u001b[38;5;28;01mdef\u001b[39;00m \u001b[38;5;21mpreprocess_documents\u001b[39m(document):\n\u001b[1;32m      4\u001b[0m     doc \u001b[38;5;241m=\u001b[39m nlp(document)\n",
      "File \u001b[0;32m~/miniconda3/envs/medialab-env/lib/python3.10/site-packages/spacy/__init__.py:51\u001b[0m, in \u001b[0;36mload\u001b[0;34m(name, vocab, disable, enable, exclude, config)\u001b[0m\n\u001b[1;32m     27\u001b[0m \u001b[38;5;28;01mdef\u001b[39;00m \u001b[38;5;21mload\u001b[39m(\n\u001b[1;32m     28\u001b[0m     name: Union[\u001b[38;5;28mstr\u001b[39m, Path],\n\u001b[1;32m     29\u001b[0m     \u001b[38;5;241m*\u001b[39m,\n\u001b[0;32m   (...)\u001b[0m\n\u001b[1;32m     34\u001b[0m     config: Union[Dict[\u001b[38;5;28mstr\u001b[39m, Any], Config] \u001b[38;5;241m=\u001b[39m util\u001b[38;5;241m.\u001b[39mSimpleFrozenDict(),\n\u001b[1;32m     35\u001b[0m ) \u001b[38;5;241m-\u001b[39m\u001b[38;5;241m>\u001b[39m Language:\n\u001b[1;32m     36\u001b[0m \u001b[38;5;250m    \u001b[39m\u001b[38;5;124;03m\"\"\"Load a spaCy model from an installed package or a local path.\u001b[39;00m\n\u001b[1;32m     37\u001b[0m \n\u001b[1;32m     38\u001b[0m \u001b[38;5;124;03m    name (str): Package name or model path.\u001b[39;00m\n\u001b[0;32m   (...)\u001b[0m\n\u001b[1;32m     49\u001b[0m \u001b[38;5;124;03m    RETURNS (Language): The loaded nlp object.\u001b[39;00m\n\u001b[1;32m     50\u001b[0m \u001b[38;5;124;03m    \"\"\"\u001b[39;00m\n\u001b[0;32m---> 51\u001b[0m     \u001b[38;5;28;01mreturn\u001b[39;00m \u001b[43mutil\u001b[49m\u001b[38;5;241;43m.\u001b[39;49m\u001b[43mload_model\u001b[49m\u001b[43m(\u001b[49m\n\u001b[1;32m     52\u001b[0m \u001b[43m        \u001b[49m\u001b[43mname\u001b[49m\u001b[43m,\u001b[49m\n\u001b[1;32m     53\u001b[0m \u001b[43m        \u001b[49m\u001b[43mvocab\u001b[49m\u001b[38;5;241;43m=\u001b[39;49m\u001b[43mvocab\u001b[49m\u001b[43m,\u001b[49m\n\u001b[1;32m     54\u001b[0m \u001b[43m        \u001b[49m\u001b[43mdisable\u001b[49m\u001b[38;5;241;43m=\u001b[39;49m\u001b[43mdisable\u001b[49m\u001b[43m,\u001b[49m\n\u001b[1;32m     55\u001b[0m \u001b[43m        \u001b[49m\u001b[43menable\u001b[49m\u001b[38;5;241;43m=\u001b[39;49m\u001b[43menable\u001b[49m\u001b[43m,\u001b[49m\n\u001b[1;32m     56\u001b[0m \u001b[43m        \u001b[49m\u001b[43mexclude\u001b[49m\u001b[38;5;241;43m=\u001b[39;49m\u001b[43mexclude\u001b[49m\u001b[43m,\u001b[49m\n\u001b[1;32m     57\u001b[0m \u001b[43m        \u001b[49m\u001b[43mconfig\u001b[49m\u001b[38;5;241;43m=\u001b[39;49m\u001b[43mconfig\u001b[49m\u001b[43m,\u001b[49m\n\u001b[1;32m     58\u001b[0m \u001b[43m    \u001b[49m\u001b[43m)\u001b[49m\n",
      "File \u001b[0;32m~/miniconda3/envs/medialab-env/lib/python3.10/site-packages/spacy/util.py:472\u001b[0m, in \u001b[0;36mload_model\u001b[0;34m(name, vocab, disable, enable, exclude, config)\u001b[0m\n\u001b[1;32m    470\u001b[0m \u001b[38;5;28;01mif\u001b[39;00m name \u001b[38;5;129;01min\u001b[39;00m OLD_MODEL_SHORTCUTS:\n\u001b[1;32m    471\u001b[0m     \u001b[38;5;28;01mraise\u001b[39;00m \u001b[38;5;167;01mIOError\u001b[39;00m(Errors\u001b[38;5;241m.\u001b[39mE941\u001b[38;5;241m.\u001b[39mformat(name\u001b[38;5;241m=\u001b[39mname, full\u001b[38;5;241m=\u001b[39mOLD_MODEL_SHORTCUTS[name]))  \u001b[38;5;66;03m# type: ignore[index]\u001b[39;00m\n\u001b[0;32m--> 472\u001b[0m \u001b[38;5;28;01mraise\u001b[39;00m \u001b[38;5;167;01mIOError\u001b[39;00m(Errors\u001b[38;5;241m.\u001b[39mE050\u001b[38;5;241m.\u001b[39mformat(name\u001b[38;5;241m=\u001b[39mname))\n",
      "\u001b[0;31mOSError\u001b[0m: [E050] Can't find model 'de_core_news_md'. It doesn't seem to be a Python package or a valid path to a data directory."
     ]
    }
   ],
   "source": [
    "nlp = spacy.load(spacy_model_name)\n",
    "\n",
    "def preprocess_documents(document):\n",
    "    doc = nlp(document)\n",
    "    tokens = [\n",
    "        token.lemma_.lower() for token in doc\n",
    "        if not token.is_stop and not token.is_punct and not token.is_digit and token.lemma_.strip()\n",
    "    ]\n",
    "    document = \" \".join(tokens)\n",
    "    return document\n",
    "\n",
    "\n",
    "tqdm.pandas()\n",
    "df[\"processed_document\"] = df[\"document\"].progress_apply(preprocess_documents)\n",
    "df[\"processed_document\"].apply(len).describe()"
   ]
  },
  {
   "cell_type": "code",
   "execution_count": null,
   "id": "fcf07fc2-49bb-482c-98e4-bdd679cb71f9",
   "metadata": {},
   "outputs": [],
   "source": [
    "df.document.iloc[1]"
   ]
  },
  {
   "cell_type": "code",
   "execution_count": null,
   "id": "7ccb8e6d-102f-44ec-9ef9-8c91fed2cbea",
   "metadata": {},
   "outputs": [],
   "source": [
    "df.processed_document.iloc[1]"
   ]
  },
  {
   "cell_type": "markdown",
   "id": "b2773187-327d-4cc0-bc83-3ec27d2658fb",
   "metadata": {},
   "source": [
    "# Topic modelling"
   ]
  },
  {
   "cell_type": "code",
   "execution_count": null,
   "id": "a2656110-29c8-4b89-8a42-0f55a7a765ab",
   "metadata": {},
   "outputs": [],
   "source": [
    "umap_model = UMAP(n_neighbors=15, n_components=5, min_dist=0.0, metric=\"cosine\")\n",
    "ctfidf_model = ClassTfidfTransformer(bm25_weighting=True, reduce_frequent_words=True)\n",
    "vectorizer_model = CountVectorizer(min_df=10, ngram_range=(1, 3))\n",
    "\n",
    "topic_model = BERTopic(\n",
    "    embedding_model=\"sentence-transformers/paraphrase-multilingual-MiniLM-L12-v2\",\n",
    "    umap_model=umap_model,\n",
    "    ctfidf_model=ctfidf_model,\n",
    "    vectorizer_model=vectorizer_model,\n",
    "    verbose=True,\n",
    ")"
   ]
  },
  {
   "cell_type": "code",
   "execution_count": null,
   "id": "dd99d7e1-f4af-4888-a2b0-3b79957032b1",
   "metadata": {},
   "outputs": [],
   "source": [
    "documents = df.processed_document.tolist()\n",
    "\n",
    "topics, probs = topic_model.fit_transform(documents)"
   ]
  },
  {
   "cell_type": "code",
   "execution_count": null,
   "id": "3e1fd17a-5826-4fcd-8607-421546379ee7",
   "metadata": {},
   "outputs": [],
   "source": [
    "topic_model.visualize_topics()"
   ]
  },
  {
   "cell_type": "code",
   "execution_count": null,
   "id": "e4f90f93-f664-4347-9620-69511928dde4",
   "metadata": {},
   "outputs": [],
   "source": [
    "topic_model.visualize_heatmap()"
   ]
  },
  {
   "cell_type": "markdown",
   "id": "e1691bd2-77be-4a35-9e9d-7c5e0fda229b",
   "metadata": {},
   "source": [
    "## Topics over time"
   ]
  },
  {
   "cell_type": "code",
   "execution_count": null,
   "id": "85389c6c-0754-4e5f-82a6-a50ae8d1d24a",
   "metadata": {},
   "outputs": [],
   "source": [
    "openai_client = openai.OpenAI(api_key=os.getenv(\"OPENAI_API_KEY\"))\n",
    "openai_model = OpenAI(\n",
    "    openai_client,\n",
    "    model=\"gpt-3.5-turbo\",\n",
    "    chat=True,\n",
    "    tokenizer=\"char\",\n",
    "    doc_length=500,\n",
    "    nr_docs=5,\n",
    ")\n",
    "\n",
    "umap_model = UMAP(n_neighbors=15, n_components=5, min_dist=0.0, metric=\"cosine\")\n",
    "ctfidf_model = ClassTfidfTransformer(bm25_weighting=True, reduce_frequent_words=True)\n",
    "vectorizer_model = CountVectorizer(min_df=10, ngram_range=(1, 3))\n",
    "\n",
    "topic_model = BERTopic(\n",
    "    embedding_model=\"sentence-transformers/paraphrase-multilingual-MiniLM-L12-v2\",\n",
    "    umap_model=umap_model,\n",
    "    ctfidf_model=ctfidf_model,\n",
    "    vectorizer_model=vectorizer_model,\n",
    "    representation_model=openai_model,\n",
    "    verbose=True,\n",
    ")"
   ]
  },
  {
   "cell_type": "code",
   "execution_count": null,
   "id": "f3cec775-60df-450d-9d01-470c00822d13",
   "metadata": {
    "scrolled": true
   },
   "outputs": [],
   "source": [
    "documents = df.processed_document.tolist()\n",
    "dates = pd.to_datetime(df.parsed_date).tolist()\n",
    "\n",
    "topics, probs = topic_model.fit_transform(documents)\n",
    "topics_over_time = topic_model.topics_over_time(documents, dates, nr_bins=7)"
   ]
  },
  {
   "cell_type": "code",
   "execution_count": null,
   "id": "edb2088c-7a85-494c-8cea-8b60152c735a",
   "metadata": {},
   "outputs": [],
   "source": [
    "sd, ed = df.parsed_date.min(), df.parsed_date.max()\n",
    "sd = datetime.strptime(sd, \"%Y-%m-%d\").strftime(\"%y%m%d\")\n",
    "ed = datetime.strptime(ed, \"%Y-%m-%d\").strftime(\"%y%m%d\")\n",
    "\n",
    "output_path = Path(f\"./data/topics/v2/topics_over_time_{sd}-{ed}.csv\")\n",
    "output_path.parent.mkdir(exist_ok=True, parents=True)\n",
    "topics_over_time.to_csv(output_path, index=False)"
   ]
  },
  {
   "cell_type": "code",
   "execution_count": null,
   "id": "9b166eff-92f3-4e28-841e-2c4a1b84be74",
   "metadata": {},
   "outputs": [],
   "source": [
    "topic_model.visualize_topics_over_time(topics_over_time, top_n_topics=20)"
   ]
  },
  {
   "cell_type": "code",
   "execution_count": null,
   "id": "ad4d5830-6c6c-46a9-9127-e2fc073b11ea",
   "metadata": {},
   "outputs": [],
   "source": [
    "topics_over_time"
   ]
  },
  {
   "cell_type": "code",
   "execution_count": null,
   "id": "c8b1460b-842a-4f7c-bbdb-b1e25b42dc1f",
   "metadata": {
    "scrolled": true
   },
   "outputs": [],
   "source": [
    "df[\"predicted_topic\"] = topics\n",
    "\n",
    "output_path = Path(f\"./data/topics/v2/predicted_topics_{sd}-{ed}.csv\")\n",
    "output_path.parent.mkdir(exist_ok=True, parents=True)\n",
    "outcols = [\"_id\", \"url\", \"title\", \"description\", \"paragraphs\", \"predicted_topic\"]\n",
    "df[outcols].to_csv(output_path, index=False)"
   ]
  },
  {
   "cell_type": "code",
   "execution_count": null,
   "id": "158468bd-5e38-4b59-8c18-1430d07cbd27",
   "metadata": {},
   "outputs": [],
   "source": [
    "df.loc[df[\"predicted_topic\"] == 6]"
   ]
  },
  {
   "cell_type": "code",
   "execution_count": null,
   "id": "50822e2a-be93-4d51-8ad2-ca7a4df2d8ea",
   "metadata": {},
   "outputs": [],
   "source": []
  }
 ],
 "metadata": {
  "kernelspec": {
   "display_name": "medialab-env",
   "language": "python",
   "name": "medialab-env"
  },
  "language_info": {
   "codemirror_mode": {
    "name": "ipython",
    "version": 3
   },
   "file_extension": ".py",
   "mimetype": "text/x-python",
   "name": "python",
   "nbconvert_exporter": "python",
   "pygments_lexer": "ipython3",
   "version": "3.10.14"
  }
 },
 "nbformat": 4,
 "nbformat_minor": 5
}
