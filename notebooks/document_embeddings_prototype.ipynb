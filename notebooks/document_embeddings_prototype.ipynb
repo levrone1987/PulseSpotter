{
 "cells": [
  {
   "cell_type": "code",
   "execution_count": null,
   "id": "97d51bd4-82c8-4f8a-83b1-b76406a79fb9",
   "metadata": {},
   "outputs": [],
   "source": [
    "# !pip install pandas pymongo torchinfo --quiet"
   ]
  },
  {
   "cell_type": "code",
   "execution_count": 64,
   "id": "3bc7f06a-2620-4939-ad38-dbf6047b3b51",
   "metadata": {},
   "outputs": [
    {
     "data": {
      "text/plain": [
       "True"
      ]
     },
     "execution_count": 64,
     "metadata": {},
     "output_type": "execute_result"
    }
   ],
   "source": [
    "import os\n",
    "from pathlib import Path\n",
    "\n",
    "import numpy as np\n",
    "import pandas as pd\n",
    "\n",
    "import re\n",
    "import nltk\n",
    "import torch\n",
    "\n",
    "from dotenv import load_dotenv\n",
    "from nltk.corpus import stopwords\n",
    "from nltk.tokenize import word_tokenize\n",
    "from pymongo import MongoClient, errors\n",
    "from sentence_transformers import SentenceTransformer\n",
    "from torchinfo import summary\n",
    "from tqdm import tqdm\n",
    "\n",
    "load_dotenv(\"../.env\")"
   ]
  },
  {
   "cell_type": "code",
   "execution_count": 2,
   "id": "46626f26-e865-40d8-b47d-cb33aaea4646",
   "metadata": {},
   "outputs": [],
   "source": [
    "MONGO_DATABASE = 'insightfinder-dev'\n",
    "MONGO_COLLECTION = 'content'\n",
    "MONGO_HOST = os.getenv(\"MONGO_HOST\")"
   ]
  },
  {
   "cell_type": "markdown",
   "id": "3e046780-5e10-4373-9804-e7a9edab7f53",
   "metadata": {
    "jp-MarkdownHeadingCollapsed": true
   },
   "source": [
    "# Data extraction"
   ]
  },
  {
   "cell_type": "code",
   "execution_count": 3,
   "id": "afc305c1-7609-4d85-a036-b3e685dc8b7b",
   "metadata": {},
   "outputs": [],
   "source": [
    "def generate_data(query: dict, projection: dict = None, sort_order: list = None, limit: int = None):\n",
    "    try:\n",
    "        with MongoClient(MONGO_HOST) as mongo_client:\n",
    "            db = mongo_client[MONGO_DATABASE]\n",
    "            collection = db[MONGO_COLLECTION]\n",
    "            res = collection.find(query, projection or {})\n",
    "            if sort_order:\n",
    "                res = res.sort(sort_order)\n",
    "            if limit:\n",
    "                res = res.limit(limit)\n",
    "            yield from res\n",
    "    except errors.PyMongoError as e:\n",
    "        print(f\"MongoDB error: {e}\")\n",
    "    except Exception as e:\n",
    "        print(f\"An unexpected error occurred: {e}\")\n",
    "\n",
    "\n",
    "def preprocess_paragraphs(paragraphs):\n",
    "    if not isinstance(paragraphs, list):\n",
    "        return None\n",
    "    return \" \".join(p.strip() for p in paragraphs if len(p.strip()) > 0)"
   ]
  },
  {
   "cell_type": "code",
   "execution_count": 4,
   "id": "4b0f78df-d4c0-40d1-8efd-fb164f396241",
   "metadata": {},
   "outputs": [],
   "source": [
    "query = {\n",
    "    \"visited\": True, \n",
    "    \"parsed_date\": {\n",
    "        \"$exists\": True, \"$ne\": None, \"$gte\": \"2024-05-01\",\n",
    "    },\n",
    "    \"site_name\": {\n",
    "        \"$exists\": True, \"$nin\": [\"faz\"],\n",
    "    }\n",
    "}\n",
    "projection = {\"_id\": 1, \"url\": 1, \"parsed_date\": 1, \"title\": 1, \"description\": 1, \"paragraphs\": 1, \"site_name\": 1}\n",
    "\n",
    "# sort_order = [(\"parsed_date\", -1)]\n",
    "sort_order = None\n",
    "\n",
    "limit = None\n",
    "\n",
    "data_generator = generate_data(query, projection, sort_order, limit)\n",
    "df = pd.DataFrame(data_generator)\n",
    "df[\"paragraphs\"] = df[\"paragraphs\"].apply(preprocess_paragraphs)"
   ]
  },
  {
   "cell_type": "code",
   "execution_count": 5,
   "id": "895f0568-674f-4778-acae-51162b3f6fa9",
   "metadata": {},
   "outputs": [
    {
     "data": {
      "text/html": [
       "<div>\n",
       "<style scoped>\n",
       "    .dataframe tbody tr th:only-of-type {\n",
       "        vertical-align: middle;\n",
       "    }\n",
       "\n",
       "    .dataframe tbody tr th {\n",
       "        vertical-align: top;\n",
       "    }\n",
       "\n",
       "    .dataframe thead th {\n",
       "        text-align: right;\n",
       "    }\n",
       "</style>\n",
       "<table border=\"1\" class=\"dataframe\">\n",
       "  <thead>\n",
       "    <tr style=\"text-align: right;\">\n",
       "      <th></th>\n",
       "      <th>_id</th>\n",
       "      <th>url</th>\n",
       "      <th>description</th>\n",
       "      <th>title</th>\n",
       "      <th>site_name</th>\n",
       "      <th>parsed_date</th>\n",
       "      <th>paragraphs</th>\n",
       "    </tr>\n",
       "  </thead>\n",
       "  <tbody>\n",
       "    <tr>\n",
       "      <th>0</th>\n",
       "      <td>66407ce2c0e28ab642bf44f4</td>\n",
       "      <td>https://www.handelsblatt.com/finanzen/banken-v...</td>\n",
       "      <td>Die Fondsmanagerin Alexandra Annecke kritisier...</td>\n",
       "      <td>„IT-Probleme bei der Migration der Postbank si...</td>\n",
       "      <td>handelsblatt</td>\n",
       "      <td>2024-05-10</td>\n",
       "      <td>Frankfurt. Die Fondsgesellschaft Union Investm...</td>\n",
       "    </tr>\n",
       "    <tr>\n",
       "      <th>1</th>\n",
       "      <td>66407ce2c0e28ab642bf44f5</td>\n",
       "      <td>https://www.handelsblatt.com/finanzen/banken-v...</td>\n",
       "      <td>Bei kontaktlosen Zahlungen per EC-Karte muss m...</td>\n",
       "      <td>Darum müssen Sie plötzlich kaum noch Ihre PIN ...</td>\n",
       "      <td>handelsblatt</td>\n",
       "      <td>2024-05-10</td>\n",
       "      <td>Frankfurt. Üblich ist, dass man beim Bezahlen ...</td>\n",
       "    </tr>\n",
       "    <tr>\n",
       "      <th>2</th>\n",
       "      <td>66407ce2c0e28ab642bf44f6</td>\n",
       "      <td>https://www.handelsblatt.com/finanzen/banken-v...</td>\n",
       "      <td>Die Autoversicherung leidet unter stark gestie...</td>\n",
       "      <td>Allianz lässt bei der Autoreparatur nun auch g...</td>\n",
       "      <td>handelsblatt</td>\n",
       "      <td>2024-05-10</td>\n",
       "      <td>München. Die Kfz- Versicherung  der  Allianz \\...</td>\n",
       "    </tr>\n",
       "    <tr>\n",
       "      <th>3</th>\n",
       "      <td>66407ce2c0e28ab642bf44f7</td>\n",
       "      <td>https://www.handelsblatt.com/finanzen/banken-v...</td>\n",
       "      <td>Die spanische Großbank will die kleinere Konku...</td>\n",
       "      <td>BBVA macht feindliches Übernahmeangebot für Sa...</td>\n",
       "      <td>handelsblatt</td>\n",
       "      <td>2024-05-09</td>\n",
       "      <td>Madrid, Düsseldorf. Die spanische Großbank  BB...</td>\n",
       "    </tr>\n",
       "    <tr>\n",
       "      <th>4</th>\n",
       "      <td>66407ce2c0e28ab642bf44f8</td>\n",
       "      <td>https://www.handelsblatt.com/finanzen/banken-v...</td>\n",
       "      <td>Erstmals werden Details zu den Vorwürfen bekan...</td>\n",
       "      <td>Großaktionär Förtsch mit neuen Vorwürfe gegen ...</td>\n",
       "      <td>handelsblatt</td>\n",
       "      <td>2024-05-08</td>\n",
       "      <td>Frankfurt. Bernd Förtsch, größte Einzelaktionä...</td>\n",
       "    </tr>\n",
       "    <tr>\n",
       "      <th>...</th>\n",
       "      <td>...</td>\n",
       "      <td>...</td>\n",
       "      <td>...</td>\n",
       "      <td>...</td>\n",
       "      <td>...</td>\n",
       "      <td>...</td>\n",
       "      <td>...</td>\n",
       "    </tr>\n",
       "    <tr>\n",
       "      <th>25390</th>\n",
       "      <td>6685a7ce6c1177bf3bc2ecad</td>\n",
       "      <td>https://www.tagesspiegel.de/potsdam/landeshaup...</td>\n",
       "      <td>Zwei Männer gerieten am Montagabend in Streit....</td>\n",
       "      <td>Mit Gegenständen beworfen :  Betrunkene gehen ...</td>\n",
       "      <td>tagesspiegel</td>\n",
       "      <td>2024-07-02</td>\n",
       "      <td>Zwei Betrunkene haben sich am Montagabend in d...</td>\n",
       "    </tr>\n",
       "    <tr>\n",
       "      <th>25391</th>\n",
       "      <td>6685a7d46c1177bf3bc2ecae</td>\n",
       "      <td>https://www.tagesspiegel.de/potsdam/landeshaup...</td>\n",
       "      <td>Aus unbekannter Ursache geriet ein 53-Jähriger...</td>\n",
       "      <td>Autofahrer geriet in Gegenverkehr :  Frontalzu...</td>\n",
       "      <td>tagesspiegel</td>\n",
       "      <td>2024-07-02</td>\n",
       "      <td>Im Potsdamer Ortsteil Nedlitz ist ein Autofahr...</td>\n",
       "    </tr>\n",
       "    <tr>\n",
       "      <th>25392</th>\n",
       "      <td>6685a7dd6c1177bf3bc2ecaf</td>\n",
       "      <td>https://www.tagesspiegel.de/internetrouter-fir...</td>\n",
       "      <td>Fritz!-Boxen sind in vielen Haushalten präsent...</td>\n",
       "      <td>Internetrouter-Firma :  Fritz!-Box-Hersteller ...</td>\n",
       "      <td>tagesspiegel</td>\n",
       "      <td>2024-07-02</td>\n",
       "      <td>Das Bundeskartellamt hat eine hohe Geldbuße ge...</td>\n",
       "    </tr>\n",
       "    <tr>\n",
       "      <th>25393</th>\n",
       "      <td>6685a7e76c1177bf3bc2ecb0</td>\n",
       "      <td>https://www.tagesspiegel.de/regierungskonsulta...</td>\n",
       "      <td>Die deutsch-polnischen Regierungskonsultatione...</td>\n",
       "      <td>Regierungskonsultationen :  Polen und Deutschl...</td>\n",
       "      <td>tagesspiegel</td>\n",
       "      <td>2024-07-02</td>\n",
       "      <td>Deutschland und Polen wollen mit einem Aktions...</td>\n",
       "    </tr>\n",
       "    <tr>\n",
       "      <th>25394</th>\n",
       "      <td>6685a7ec6c1177bf3bc2ecb1</td>\n",
       "      <td>https://www.tagesspiegel.de/wirtschaft/freie-p...</td>\n",
       "      <td>AVM habe die Preise für einzelne Produkte hoch...</td>\n",
       "      <td>„Freie Preisbildung eingeschränkt“ :  Kartella...</td>\n",
       "      <td>tagesspiegel</td>\n",
       "      <td>2024-07-02</td>\n",
       "      <td>Das Bundeskartellamt geht gegen den Fritz!Box-...</td>\n",
       "    </tr>\n",
       "  </tbody>\n",
       "</table>\n",
       "<p>25395 rows × 7 columns</p>\n",
       "</div>"
      ],
      "text/plain": [
       "                            _id  \\\n",
       "0      66407ce2c0e28ab642bf44f4   \n",
       "1      66407ce2c0e28ab642bf44f5   \n",
       "2      66407ce2c0e28ab642bf44f6   \n",
       "3      66407ce2c0e28ab642bf44f7   \n",
       "4      66407ce2c0e28ab642bf44f8   \n",
       "...                         ...   \n",
       "25390  6685a7ce6c1177bf3bc2ecad   \n",
       "25391  6685a7d46c1177bf3bc2ecae   \n",
       "25392  6685a7dd6c1177bf3bc2ecaf   \n",
       "25393  6685a7e76c1177bf3bc2ecb0   \n",
       "25394  6685a7ec6c1177bf3bc2ecb1   \n",
       "\n",
       "                                                     url  \\\n",
       "0      https://www.handelsblatt.com/finanzen/banken-v...   \n",
       "1      https://www.handelsblatt.com/finanzen/banken-v...   \n",
       "2      https://www.handelsblatt.com/finanzen/banken-v...   \n",
       "3      https://www.handelsblatt.com/finanzen/banken-v...   \n",
       "4      https://www.handelsblatt.com/finanzen/banken-v...   \n",
       "...                                                  ...   \n",
       "25390  https://www.tagesspiegel.de/potsdam/landeshaup...   \n",
       "25391  https://www.tagesspiegel.de/potsdam/landeshaup...   \n",
       "25392  https://www.tagesspiegel.de/internetrouter-fir...   \n",
       "25393  https://www.tagesspiegel.de/regierungskonsulta...   \n",
       "25394  https://www.tagesspiegel.de/wirtschaft/freie-p...   \n",
       "\n",
       "                                             description  \\\n",
       "0      Die Fondsmanagerin Alexandra Annecke kritisier...   \n",
       "1      Bei kontaktlosen Zahlungen per EC-Karte muss m...   \n",
       "2      Die Autoversicherung leidet unter stark gestie...   \n",
       "3      Die spanische Großbank will die kleinere Konku...   \n",
       "4      Erstmals werden Details zu den Vorwürfen bekan...   \n",
       "...                                                  ...   \n",
       "25390  Zwei Männer gerieten am Montagabend in Streit....   \n",
       "25391  Aus unbekannter Ursache geriet ein 53-Jähriger...   \n",
       "25392  Fritz!-Boxen sind in vielen Haushalten präsent...   \n",
       "25393  Die deutsch-polnischen Regierungskonsultatione...   \n",
       "25394  AVM habe die Preise für einzelne Produkte hoch...   \n",
       "\n",
       "                                                   title     site_name  \\\n",
       "0      „IT-Probleme bei der Migration der Postbank si...  handelsblatt   \n",
       "1      Darum müssen Sie plötzlich kaum noch Ihre PIN ...  handelsblatt   \n",
       "2      Allianz lässt bei der Autoreparatur nun auch g...  handelsblatt   \n",
       "3      BBVA macht feindliches Übernahmeangebot für Sa...  handelsblatt   \n",
       "4      Großaktionär Förtsch mit neuen Vorwürfe gegen ...  handelsblatt   \n",
       "...                                                  ...           ...   \n",
       "25390  Mit Gegenständen beworfen :  Betrunkene gehen ...  tagesspiegel   \n",
       "25391  Autofahrer geriet in Gegenverkehr :  Frontalzu...  tagesspiegel   \n",
       "25392  Internetrouter-Firma :  Fritz!-Box-Hersteller ...  tagesspiegel   \n",
       "25393  Regierungskonsultationen :  Polen und Deutschl...  tagesspiegel   \n",
       "25394  „Freie Preisbildung eingeschränkt“ :  Kartella...  tagesspiegel   \n",
       "\n",
       "      parsed_date                                         paragraphs  \n",
       "0      2024-05-10  Frankfurt. Die Fondsgesellschaft Union Investm...  \n",
       "1      2024-05-10  Frankfurt. Üblich ist, dass man beim Bezahlen ...  \n",
       "2      2024-05-10  München. Die Kfz- Versicherung  der  Allianz \\...  \n",
       "3      2024-05-09  Madrid, Düsseldorf. Die spanische Großbank  BB...  \n",
       "4      2024-05-08  Frankfurt. Bernd Förtsch, größte Einzelaktionä...  \n",
       "...           ...                                                ...  \n",
       "25390  2024-07-02  Zwei Betrunkene haben sich am Montagabend in d...  \n",
       "25391  2024-07-02  Im Potsdamer Ortsteil Nedlitz ist ein Autofahr...  \n",
       "25392  2024-07-02  Das Bundeskartellamt hat eine hohe Geldbuße ge...  \n",
       "25393  2024-07-02  Deutschland und Polen wollen mit einem Aktions...  \n",
       "25394  2024-07-02  Das Bundeskartellamt geht gegen den Fritz!Box-...  \n",
       "\n",
       "[25395 rows x 7 columns]"
      ]
     },
     "execution_count": 5,
     "metadata": {},
     "output_type": "execute_result"
    }
   ],
   "source": [
    "df"
   ]
  },
  {
   "cell_type": "code",
   "execution_count": 6,
   "id": "4fd3f7e6-7176-4dd7-b8ef-c4e6ecb9e3cb",
   "metadata": {},
   "outputs": [
    {
     "data": {
      "text/plain": [
       "count                            25395\n",
       "mean     2024-06-05 07:29:53.408151040\n",
       "min                2024-05-01 00:00:00\n",
       "25%                2024-05-21 00:00:00\n",
       "50%                2024-06-08 00:00:00\n",
       "75%                2024-06-21 00:00:00\n",
       "max                2024-07-03 00:00:00\n",
       "Name: parsed_date, dtype: object"
      ]
     },
     "execution_count": 6,
     "metadata": {},
     "output_type": "execute_result"
    }
   ],
   "source": [
    "pd.to_datetime(df[\"parsed_date\"]).describe()"
   ]
  },
  {
   "cell_type": "code",
   "execution_count": 7,
   "id": "a3cd5628-decc-4153-85a3-8f497504e025",
   "metadata": {},
   "outputs": [
    {
     "data": {
      "text/plain": [
       "site_name\n",
       "tagesspiegel    12049\n",
       "spiegel          6797\n",
       "handelsblatt     2575\n",
       "heise            2350\n",
       "tagesschau       1624\n",
       "Name: count, dtype: int64"
      ]
     },
     "execution_count": 7,
     "metadata": {},
     "output_type": "execute_result"
    }
   ],
   "source": [
    "df[\"site_name\"].value_counts()"
   ]
  },
  {
   "cell_type": "markdown",
   "id": "09d0e811-a085-4071-a097-b193ed5afba7",
   "metadata": {
    "jp-MarkdownHeadingCollapsed": true
   },
   "source": [
    "# Build article documents"
   ]
  },
  {
   "cell_type": "code",
   "execution_count": null,
   "id": "a13e4bda-9aa8-4265-9435-6bbfe139ce2e",
   "metadata": {},
   "outputs": [],
   "source": [
    "nltk.download('punkt')\n",
    "nltk.download('stopwords')\n",
    "nltk.download('wordnet')"
   ]
  },
  {
   "cell_type": "code",
   "execution_count": 11,
   "id": "e42a6c21-0052-4773-b2de-e25c88afff83",
   "metadata": {},
   "outputs": [
    {
     "data": {
      "text/plain": [
       "232"
      ]
     },
     "execution_count": 11,
     "metadata": {},
     "output_type": "execute_result"
    }
   ],
   "source": [
    "stop_words = set(stopwords.words('german'))\n",
    "len(stop_words)"
   ]
  },
  {
   "cell_type": "code",
   "execution_count": 23,
   "id": "a6cfb3aa-6f83-4ace-a1cd-dac717f23b86",
   "metadata": {},
   "outputs": [],
   "source": [
    "def preprocess_document(text):\n",
    "    text = text.lower()\n",
    "    text = re.sub(r'[^\\w\\s]', ' ', text)\n",
    "    words = word_tokenize(text, language='german')\n",
    "    words = [word for word in words if word not in stop_words]\n",
    "    return ' '.join(words)\n",
    "\n",
    "def build_documents(records):\n",
    "    for idx, record in enumerate(records):\n",
    "        parts = [record.get(\"title\"), record.get(\"description\"), record.get(\"paragraphs\")]\n",
    "        res = \" \".join(p.strip() for p in parts if p is not None and len(p.strip()) > 0)\n",
    "        res = preprocess_document(res)\n",
    "        if len(res.strip()) > 0:\n",
    "            yield idx, res"
   ]
  },
  {
   "cell_type": "code",
   "execution_count": 24,
   "id": "e5164f52-2241-4457-a8f7-755615ac803e",
   "metadata": {},
   "outputs": [
    {
     "data": {
      "text/plain": [
       "25370"
      ]
     },
     "execution_count": 24,
     "metadata": {},
     "output_type": "execute_result"
    }
   ],
   "source": [
    "documents = list(build_documents(df[[\"title\", \"description\", \"paragraphs\"]].to_dict(\"records\")))\n",
    "index = [d[0] for d in documents]\n",
    "documents = [d[1] for d in documents]\n",
    "len(documents)"
   ]
  },
  {
   "cell_type": "code",
   "execution_count": 25,
   "id": "c5404b61-471f-4d70-9057-e0c6a4e16774",
   "metadata": {},
   "outputs": [
    {
     "data": {
      "text/plain": [
       "_id                                     66407ce2c0e28ab642bf44f4\n",
       "url            https://www.handelsblatt.com/finanzen/banken-v...\n",
       "description    Die Fondsmanagerin Alexandra Annecke kritisier...\n",
       "title          „IT-Probleme bei der Migration der Postbank si...\n",
       "site_name                                           handelsblatt\n",
       "parsed_date                                           2024-05-10\n",
       "paragraphs     Frankfurt. Die Fondsgesellschaft Union Investm...\n",
       "Name: 0, dtype: object"
      ]
     },
     "execution_count": 25,
     "metadata": {},
     "output_type": "execute_result"
    }
   ],
   "source": [
    "df.iloc[0]"
   ]
  },
  {
   "cell_type": "code",
   "execution_count": 26,
   "id": "0c5b9164-cc7b-4fec-a199-7093e1ea821f",
   "metadata": {},
   "outputs": [
    {
     "data": {
      "text/plain": [
       "0"
      ]
     },
     "execution_count": 26,
     "metadata": {},
     "output_type": "execute_result"
    }
   ],
   "source": [
    "index[0]"
   ]
  },
  {
   "cell_type": "code",
   "execution_count": 27,
   "id": "bdf408b8-f20f-48bc-9623-562046c9b59e",
   "metadata": {},
   "outputs": [
    {
     "data": {
      "text/plain": [
       "'it probleme migration postbank blamage fondsmanagerin alexandra annecke kritisiert service probleme postbank vorstand aufsichtsrat deutschen bank entlasten gründe frankfurt fondsgesellschaft union investment übt scharfe kritik eingeschränkten fragemöglichkeiten virtuellen hauptversammlung deutschen bank fondsmanagerin alexandra annecke kündigt interview handelsblatt vorstand aufsichtsrat bank entlasten vermögensverwalter gehören rund 0 6 prozent aktien dürfte rang 20 30 größten anteilseigner liegen praktische konsequenzen votum entlastung symbolcharakter investoren drücken führung aktiengesellschaft misstrauen öffentlicher dissens institutionellen investoren führungsriege bank unangenehm'"
      ]
     },
     "execution_count": 27,
     "metadata": {},
     "output_type": "execute_result"
    }
   ],
   "source": [
    "documents[0]"
   ]
  },
  {
   "cell_type": "code",
   "execution_count": 44,
   "id": "75fe9293-958c-4d5c-8ec9-2dbeb8519e2e",
   "metadata": {},
   "outputs": [
    {
     "data": {
      "text/plain": [
       "count    25370.000000\n",
       "mean       339.290737\n",
       "std        292.713831\n",
       "min          2.000000\n",
       "0%           2.000000\n",
       "10%         71.000000\n",
       "20%        109.000000\n",
       "30%        164.000000\n",
       "40%        220.000000\n",
       "50%        284.000000\n",
       "60%        339.000000\n",
       "70%        404.000000\n",
       "80%        506.000000\n",
       "90%        684.000000\n",
       "100%      5364.000000\n",
       "max       5364.000000\n",
       "dtype: float64"
      ]
     },
     "execution_count": 44,
     "metadata": {},
     "output_type": "execute_result"
    }
   ],
   "source": [
    "pd.Series(documents).apply(lambda t: len(t.split())).describe(np.linspace(0, 1, 11))"
   ]
  },
  {
   "cell_type": "markdown",
   "id": "bf3ee169-82dd-4fa4-aec2-ab2cd749a755",
   "metadata": {},
   "source": [
    "# Create embeddings"
   ]
  },
  {
   "cell_type": "code",
   "execution_count": 58,
   "id": "54fe18e9-4c86-40a5-a351-5d3f09b51fb5",
   "metadata": {},
   "outputs": [
    {
     "data": {
      "text/plain": [
       "==========================================================================================\n",
       "Layer (type:depth-idx)                                            Param #\n",
       "==========================================================================================\n",
       "SentenceTransformer                                               --\n",
       "├─Transformer: 1-1                                                --\n",
       "│    └─BertModel: 2-1                                             --\n",
       "│    │    └─BertEmbeddings: 3-1                                   96,212,352\n",
       "│    │    └─BertEncoder: 3-2                                      21,293,568\n",
       "│    │    └─BertPooler: 3-3                                       147,840\n",
       "├─Pooling: 1-2                                                    --\n",
       "==========================================================================================\n",
       "Total params: 117,653,760\n",
       "Trainable params: 117,653,760\n",
       "Non-trainable params: 0\n",
       "=========================================================================================="
      ]
     },
     "execution_count": 58,
     "metadata": {},
     "output_type": "execute_result"
    }
   ],
   "source": [
    "model = SentenceTransformer(\"sentence-transformers/paraphrase-multilingual-MiniLM-L12-v2\", device=\"cpu\")\n",
    "model.eval()\n",
    "\n",
    "summary(model)"
   ]
  },
  {
   "cell_type": "code",
   "execution_count": 63,
   "id": "264ce083-4fff-4a09-96d4-070e0a968017",
   "metadata": {},
   "outputs": [],
   "source": [
    "@torch.no_grad()\n",
    "def embed_document(document_or_batch: str | list, model):\n",
    "    return model.encode(document_or_batch)"
   ]
  },
  {
   "cell_type": "code",
   "execution_count": 71,
   "id": "23b42617-31c4-49c0-9fea-94900fa62ad6",
   "metadata": {},
   "outputs": [
    {
     "name": "stderr",
     "output_type": "stream",
     "text": [
      "  4%|█▍                                       | 57/1586 [00:45<20:49,  1.22it/s]\n",
      "KeyboardInterrupt\n",
      "\n"
     ]
    }
   ],
   "source": [
    "batch_size = 16\n",
    "num_records = len(documents)\n",
    "num_steps = num_records // batch_size + int(num_records % batch_size > 0)\n",
    "pbar = tqdm(total=num_steps, position=0, leave=False)\n",
    "\n",
    "for start_idx in range(0, num_records, batch_size):\n",
    "    end_idx = min(start_idx + batch_size, num_records)\n",
    "    batch = documents[start_idx:end_idx]\n",
    "    embed_document(batch, model)\n",
    "    pbar.update()"
   ]
  },
  {
   "cell_type": "markdown",
   "id": "9f2bb10d-a186-4bb9-b88f-356cea7f0f96",
   "metadata": {},
   "source": [
    "# Implementing the entire processes"
   ]
  },
  {
   "cell_type": "code",
   "execution_count": null,
   "id": "87fe1a99-db92-4111-a369-2f5d4bf09d10",
   "metadata": {},
   "outputs": [],
   "source": [
    "# dependencies\n",
    "\n",
    "import os\n",
    "import numpy as np\n",
    "\n",
    "import re\n",
    "import nltk\n",
    "import torch\n",
    "\n",
    "from bson.objectid import ObjectId\n",
    "from dotenv import load_dotenv\n",
    "from nltk.corpus import stopwords\n",
    "from nltk.tokenize import word_tokenize\n",
    "from pymongo import MongoClient, errors\n",
    "from sentence_transformers import SentenceTransformer\n",
    "from tqdm import tqdm\n",
    "\n",
    "nltk.download('punkt')\n",
    "nltk.download('stopwords')\n",
    "nltk.download('wordnet')"
   ]
  },
  {
   "cell_type": "code",
   "execution_count": 10,
   "id": "91e3836e-d409-4f6b-85a1-37dfc1e2eece",
   "metadata": {},
   "outputs": [],
   "source": [
    "# globals\n",
    "\n",
    "load_dotenv(\"../.env\")\n",
    "MONGO_DATABASE = 'insightfinder-dev'\n",
    "MONGO_COLLECTION = 'content'\n",
    "MONGO_HOST = os.getenv(\"MONGO_HOST\")"
   ]
  },
  {
   "cell_type": "code",
   "execution_count": 22,
   "id": "9edc7333-adf8-4f06-9a79-5c625fa6f873",
   "metadata": {},
   "outputs": [
    {
     "name": "stderr",
     "output_type": "stream",
     "text": [
      "/Users/malek/Desktop/Home/Workspaces/Falcony/insightfinder/venv-1/lib/python3.10/site-packages/huggingface_hub/file_download.py:1132: FutureWarning: `resume_download` is deprecated and will be removed in version 1.0.0. Downloads always resume when possible. If you want to force a new download, use `force_download=True`.\n",
      "  warnings.warn(\n"
     ]
    },
    {
     "data": {
      "text/plain": [
       "SentenceTransformer(\n",
       "  (0): Transformer({'max_seq_length': 128, 'do_lower_case': False}) with Transformer model: BertModel \n",
       "  (1): Pooling({'word_embedding_dimension': 384, 'pooling_mode_cls_token': False, 'pooling_mode_mean_tokens': True, 'pooling_mode_max_tokens': False, 'pooling_mode_mean_sqrt_len_tokens': False, 'pooling_mode_weightedmean_tokens': False, 'pooling_mode_lasttoken': False, 'include_prompt': True})\n",
       ")"
      ]
     },
     "execution_count": 22,
     "metadata": {},
     "output_type": "execute_result"
    }
   ],
   "source": [
    "# constants\n",
    "\n",
    "stop_words = set(stopwords.words('german'))\n",
    "\n",
    "model = SentenceTransformer(\"sentence-transformers/paraphrase-multilingual-MiniLM-L12-v2\", device=\"cpu\")\n",
    "model.eval()"
   ]
  },
  {
   "cell_type": "code",
   "execution_count": 25,
   "id": "784931bb-bb09-4440-9ac6-ee2cb4f7908b",
   "metadata": {},
   "outputs": [],
   "source": [
    "# variables\n",
    "\n",
    "batch_size = 16"
   ]
  },
  {
   "cell_type": "code",
   "execution_count": 48,
   "id": "158f35b8-2de6-4721-ac7f-7381492f7cfa",
   "metadata": {},
   "outputs": [],
   "source": [
    "def get_records_without_embedding(limit: int = None):\n",
    "    query = {\n",
    "        \"$and\": [\n",
    "            {\n",
    "                \"visited\": True, \n",
    "                \"parsed_date\": {\"$exists\": True, \"$ne\": None},\n",
    "                \"site_name\": {\"$exists\": True, \"$nin\": [\"faz\"]},\n",
    "            },\n",
    "            {\n",
    "                \"$or\": [\n",
    "                    {\"embedding\": {\"$exists\": False}},\n",
    "                    {\"embedding\": {\"$eq\": None}}\n",
    "                ],\n",
    "            },\n",
    "            {\n",
    "                \"$or\": [\n",
    "                    {\"title\": {\"$exists\": True, \"$not\": {\"$in\": [\"\", None]}}},\n",
    "                    {\"description\": {\"$exists\": True, \"$not\": {\"$in\": [\"\", None]}}},\n",
    "                    {\"paragraphs\": {\"$exists\": True, \"$not\": {\"$in\": [\"\", None]}}},\n",
    "                ]\n",
    "            }\n",
    "        ]\n",
    "    }\n",
    "    try:\n",
    "        with MongoClient(MONGO_HOST) as mongo_client:\n",
    "            db = mongo_client[MONGO_DATABASE]\n",
    "            collection = db[MONGO_COLLECTION]\n",
    "            res = collection.find(query)\n",
    "            if limit:\n",
    "                res = res.limit(limit)\n",
    "            yield from res\n",
    "    except errors.PyMongoError as e:\n",
    "        print(f\"MongoDB error: {e}\")\n",
    "    except Exception as e:\n",
    "        print(f\"An unexpected error occurred: {e}\")\n",
    "\n",
    "def join_list_of_strings(strings_list):\n",
    "    if strings_list is None or not isinstance(strings_list, list):\n",
    "        return strings_list\n",
    "    return \" \".join([x.strip() for x in strings_list if len(x.strip()) > 0])\n",
    "\n",
    "def preprocess_document(text):\n",
    "    text = text.lower()\n",
    "    text = re.sub(r'[^\\w\\s]', ' ', text)\n",
    "    words = word_tokenize(text, language='german')\n",
    "    words = [word for word in words if word not in stop_words]\n",
    "    return ' '.join(words)\n",
    "\n",
    "def create_document_for_record(record):\n",
    "    title = join_list_of_strings(record.get(\"title\"))\n",
    "    description = join_list_of_strings(record.get(\"description\"))\n",
    "    paragraphs = join_list_of_strings(record.get(\"paragraphs\"))\n",
    "    document = \" \".join([x.strip() for x in [title, description, paragraphs] if x is not None])\n",
    "    return preprocess_document(document)\n",
    "\n",
    "@torch.no_grad()\n",
    "def batch_embed_documents(documents: list, model):\n",
    "    return model.encode(documents).tolist()\n",
    "\n",
    "def add_embedding_for_record(record_id: ObjectId, embedding: list):\n",
    "    try:\n",
    "        with MongoClient(MONGO_HOST) as mongo_client:\n",
    "            db = mongo_client[MONGO_DATABASE]\n",
    "            collection = db[MONGO_COLLECTION]\n",
    "            collection.update_one(\n",
    "                {\"_id\": record_id},\n",
    "                {\"$set\": {\"embedding\": embedding}},\n",
    "            )\n",
    "    except errors.PyMongoError as e:\n",
    "        print(f\"MongoDB error: {e}\")\n",
    "    except Exception as e:\n",
    "        print(f\"An unexpected error occurred: {e}\")\n",
    "\n",
    "def generate_batches(lst, n):\n",
    "    if n <= 0:\n",
    "        raise ValueError(\"Batch size must be a positive integer.\")\n",
    "    for i in range(0, len(lst), n):\n",
    "        yield lst[i:i+n]"
   ]
  },
  {
   "cell_type": "code",
   "execution_count": 41,
   "id": "645e3c26-1cb1-47d6-a303-83199aa04b67",
   "metadata": {},
   "outputs": [
    {
     "name": "stdout",
     "output_type": "stream",
     "text": [
      "66407ce2c0e28ab642bf44f7\n"
     ]
    }
   ],
   "source": [
    "# generator = get_records_without_embedding(limit=1)\n",
    "# record = next(generator)\n",
    "# print(record[\"_id\"])\n",
    "# document = create_document_for_record(record)\n",
    "# embedding = batch_embed_documents(document, model)\n",
    "# add_embedding_for_record(record[\"_id\"], embedding)"
   ]
  },
  {
   "cell_type": "code",
   "execution_count": null,
   "id": "bb8c5f5a-bbf9-4f3e-ab45-6d465a30504b",
   "metadata": {},
   "outputs": [
    {
     "name": "stderr",
     "output_type": "stream",
     "text": [
      "\n",
      "  0%|▏                                      | 7/1627 [03:16<12:36:51, 28.03s/it]\u001b[A\n",
      "\n",
      "  0%|                                        | 1/1620 [00:10<4:42:19, 10.46s/it]\u001b[A\n",
      "  0%|                                        | 2/1620 [00:21<4:43:30, 10.51s/it]\u001b[A\n",
      "  0%|                                        | 3/1620 [00:31<4:43:42, 10.53s/it]\u001b[A\n",
      "  0%|                                        | 4/1620 [00:41<4:42:25, 10.49s/it]\u001b[A\n",
      "  0%|                                        | 5/1620 [00:52<4:41:21, 10.45s/it]\u001b[A\n",
      "  0%|▏                                       | 6/1620 [01:03<4:44:17, 10.57s/it]\u001b[A\n",
      "  0%|▏                                       | 7/1620 [01:13<4:43:01, 10.53s/it]\u001b[A\n",
      "  0%|▏                                       | 8/1620 [01:24<4:41:50, 10.49s/it]\u001b[A\n",
      "  1%|▏                                       | 9/1620 [01:34<4:45:27, 10.63s/it]\u001b[A\n",
      "  1%|▏                                      | 10/1620 [01:45<4:46:14, 10.67s/it]\u001b[A\n",
      "  1%|▎                                      | 11/1620 [01:56<4:46:56, 10.70s/it]\u001b[A\n",
      "  1%|▎                                      | 12/1620 [02:07<4:47:29, 10.73s/it]\u001b[A\n",
      "  1%|▎                                      | 13/1620 [02:17<4:46:49, 10.71s/it]\u001b[A\n",
      "  1%|▎                                      | 14/1620 [02:28<4:44:56, 10.65s/it]\u001b[A\n",
      "  1%|▎                                      | 15/1620 [02:38<4:43:41, 10.61s/it]\u001b[A\n",
      "  1%|▍                                      | 16/1620 [02:49<4:41:20, 10.52s/it]\u001b[A\n",
      "  1%|▍                                      | 17/1620 [02:59<4:40:19, 10.49s/it]\u001b[A\n",
      "  1%|▍                                      | 18/1620 [03:09<4:37:49, 10.41s/it]\u001b[A\n",
      "  1%|▍                                      | 19/1620 [03:20<4:35:50, 10.34s/it]\u001b[A\n",
      "  1%|▍                                      | 20/1620 [03:30<4:34:58, 10.31s/it]\u001b[A\n",
      "  1%|▌                                      | 21/1620 [03:40<4:33:45, 10.27s/it]\u001b[A\n",
      "  1%|▌                                      | 22/1620 [03:50<4:33:57, 10.29s/it]\u001b[A\n",
      "  1%|▌                                      | 23/1620 [04:01<4:36:20, 10.38s/it]\u001b[A\n",
      "  1%|▌                                      | 24/1620 [04:11<4:36:58, 10.41s/it]\u001b[A\n",
      "  2%|▌                                      | 25/1620 [04:22<4:36:42, 10.41s/it]\u001b[A\n",
      "  2%|▋                                      | 26/1620 [04:32<4:37:33, 10.45s/it]\u001b[A\n",
      "  2%|▋                                      | 27/1620 [04:43<4:39:53, 10.54s/it]\u001b[A\n",
      "  2%|▋                                      | 28/1620 [04:54<4:39:03, 10.52s/it]\u001b[A\n",
      "  2%|▋                                      | 29/1620 [05:04<4:40:59, 10.60s/it]\u001b[A\n",
      "  2%|▋                                      | 30/1620 [05:15<4:40:06, 10.57s/it]\u001b[A\n",
      "  2%|▋                                      | 31/1620 [05:25<4:38:05, 10.50s/it]\u001b[A\n",
      "  2%|▊                                      | 32/1620 [05:36<4:38:04, 10.51s/it]\u001b[A\n",
      "  2%|▊                                      | 33/1620 [05:46<4:36:58, 10.47s/it]\u001b[A\n",
      "  2%|▊                                      | 34/1620 [05:57<4:36:14, 10.45s/it]\u001b[A\n",
      "  2%|▊                                      | 35/1620 [06:08<4:42:29, 10.69s/it]\u001b[A\n",
      "  2%|▊                                      | 36/1620 [06:18<4:40:14, 10.62s/it]\u001b[A\n",
      "  2%|▉                                      | 37/1620 [06:29<4:40:00, 10.61s/it]\u001b[A\n",
      "  2%|▉                                      | 38/1620 [06:39<4:37:39, 10.53s/it]\u001b[A\n",
      "  2%|▉                                      | 39/1620 [06:50<4:36:40, 10.50s/it]\u001b[A"
     ]
    }
   ],
   "source": [
    "records = list(get_records_without_embedding())\n",
    "num_records = len(records)\n",
    "num_steps = num_records // batch_size + int(num_records % batch_size > 0)\n",
    "pbar = tqdm(total=num_steps)\n",
    "\n",
    "for batch in generate_batches(records, batch_size):\n",
    "    documents = [create_document_for_record(record) for record in batch]\n",
    "    embeddings = batch_embed_documents(documents, model)\n",
    "    for idx in range(len(batch)):\n",
    "        add_embedding_for_record(batch[idx][\"_id\"], embeddings[idx])\n",
    "    pbar.update()"
   ]
  },
  {
   "cell_type": "code",
   "execution_count": null,
   "id": "5224a657-2753-4a60-8d04-bed14384ff27",
   "metadata": {},
   "outputs": [],
   "source": []
  }
 ],
 "metadata": {
  "kernelspec": {
   "display_name": "insightfinder",
   "language": "python",
   "name": "insightfinder"
  },
  "language_info": {
   "codemirror_mode": {
    "name": "ipython",
    "version": 3
   },
   "file_extension": ".py",
   "mimetype": "text/x-python",
   "name": "python",
   "nbconvert_exporter": "python",
   "pygments_lexer": "ipython3",
   "version": "3.10.11"
  }
 },
 "nbformat": 4,
 "nbformat_minor": 5
}
